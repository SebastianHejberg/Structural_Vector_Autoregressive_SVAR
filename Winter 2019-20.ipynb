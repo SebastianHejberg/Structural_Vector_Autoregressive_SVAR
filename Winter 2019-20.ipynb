{
 "cells": [
  {
   "cell_type": "markdown",
   "metadata": {},
   "source": [
    "# **Written Exam for the M.Sc. in Economics, Winter 2019-20**\n",
    "**Advanced Macro economics: Structural Vector Autoregressive Analysis:** \n",
    "\n",
    "**About the exam**\n",
    "The topic for this pro ject examination is the money demand function stating that the demand for money is a function of interest rates and output. The standard long-run money demand function can be written as\n",
    "$$m =\\beta_0+\\beta_1y+\\beta_2(r^S−r^O)\\tag{1}$$\n",
    "where $m$ is the natural logarithm of real money balance $(M/P)$, $y$ is the natural logarithm of real GDP, $r^S$ is the short-run interest rate and $r^O$ is the \"own rate\" of return of components in the money stock. The spread $(r^S−r^O)$ represents the opportunity cost of holding money balances.\n",
    "\n",
    "There is a large literature estimating this money demand function and studies of the effects of monetary policy. One puzzle that emerges in this literature is that restrictive monetary policy (an increase in the money market rate) is associated with increased prices. There have been many attempts in the literature to understand and/or explain this result. The present assignment provides an additional approach to investigate this puzzle.\n",
    "\n",
    "Approximate the spread using the money market rate, i.e., $r=(r^S−r^O)$. We can then rewrite the money demand function ab ove as the following long-run relationship \n",
    "$$m = \\beta_0+\\beta_1y+\\beta_2r\\tag{2}$$\n",
    "\n",
    "This implies that if the variables in the equation ab ove are $I(1)$-pro cesses, then the three variables must cointegrate.\n",
    "\n",
    "Regarding the data for the exam paper, please note the following:\n",
    "- All assignments are based on different data sets. You should use the data set (monthly data covering the p erio d 1979:02-2003:12) located in the MATLAB file 1234.mat, where 1234 is your exam number. This MATLAB file contains the data ($y$), the dates (dates) and the name of the variables (names). You can load this file into MATLAB directly using 'load 1234.mat'. In case you cannot find your exam number, you can use the\n",
    "`1000.mat` file.\n",
    "- To avoid that some data sets are more difficult to handle than others, the data sets are artificial (simulated from a known data generating pro cess), and they b ehave, as close as possible, like actual data.\n",
    "The prop osed solution below is based on the dataset `1000.mat`\n",
    "\n",
    "The proposed solution below is based on the dataset `1000.mat`"
   ]
  },
  {
   "cell_type": "markdown",
   "metadata": {},
   "source": [
    "<center>\n",
    "\n",
    "### **Preamble**\n",
    "\n",
    "</center>"
   ]
  },
  {
   "cell_type": "code",
   "execution_count": 1,
   "metadata": {},
   "outputs": [
    {
     "name": "stdout",
     "output_type": "stream",
     "text": [
      "The autoreload extension is already loaded. To reload it, use:\n",
      "  %reload_ext autoreload\n"
     ]
    },
    {
     "data": {
      "text/html": [
       "<svg  width=\"550\" height=\"55\"><rect x=\"0\" y=\"0\" width=\"55\" height=\"55\" style=\"fill:#a1c9f4;stroke-width:2;stroke:rgb(255,255,255)\"/><rect x=\"55\" y=\"0\" width=\"55\" height=\"55\" style=\"fill:#ffb482;stroke-width:2;stroke:rgb(255,255,255)\"/><rect x=\"110\" y=\"0\" width=\"55\" height=\"55\" style=\"fill:#8de5a1;stroke-width:2;stroke:rgb(255,255,255)\"/><rect x=\"165\" y=\"0\" width=\"55\" height=\"55\" style=\"fill:#ff9f9b;stroke-width:2;stroke:rgb(255,255,255)\"/><rect x=\"220\" y=\"0\" width=\"55\" height=\"55\" style=\"fill:#d0bbff;stroke-width:2;stroke:rgb(255,255,255)\"/><rect x=\"275\" y=\"0\" width=\"55\" height=\"55\" style=\"fill:#debb9b;stroke-width:2;stroke:rgb(255,255,255)\"/><rect x=\"330\" y=\"0\" width=\"55\" height=\"55\" style=\"fill:#fab0e4;stroke-width:2;stroke:rgb(255,255,255)\"/><rect x=\"385\" y=\"0\" width=\"55\" height=\"55\" style=\"fill:#cfcfcf;stroke-width:2;stroke:rgb(255,255,255)\"/><rect x=\"440\" y=\"0\" width=\"55\" height=\"55\" style=\"fill:#fffea3;stroke-width:2;stroke:rgb(255,255,255)\"/><rect x=\"495\" y=\"0\" width=\"55\" height=\"55\" style=\"fill:#b9f2f0;stroke-width:2;stroke:rgb(255,255,255)\"/></svg>"
      ],
      "text/plain": [
       "[(0.6313725490196078, 0.788235294117647, 0.9568627450980393),\n",
       " (1.0, 0.7058823529411765, 0.5098039215686274),\n",
       " (0.5529411764705883, 0.8980392156862745, 0.6313725490196078),\n",
       " (1.0, 0.6235294117647059, 0.6078431372549019),\n",
       " (0.8156862745098039, 0.7333333333333333, 1.0),\n",
       " (0.8705882352941177, 0.7333333333333333, 0.6078431372549019),\n",
       " (0.9803921568627451, 0.6901960784313725, 0.8941176470588236),\n",
       " (0.8117647058823529, 0.8117647058823529, 0.8117647058823529),\n",
       " (1.0, 0.996078431372549, 0.6392156862745098),\n",
       " (0.7254901960784313, 0.9490196078431372, 0.9411764705882353)]"
      ]
     },
     "execution_count": 2,
     "metadata": {},
     "output_type": "execute_result"
    }
   ],
   "source": [
    "import matplotlib.pyplot as plt\n",
    "import matplotlib.ticker as ticker\n",
    "from matplotlib.font_manager import FontProperties\n",
    "font_props = FontProperties(family='Times New Roman', size=10)\n",
    "import seaborn as sns\n",
    "sns.set_palette(\"pastel\") \n",
    "\n",
    "from IPython.display import display, Math, clear_output\n",
    "from sympy import Matrix\n",
    "from sympy import latex, symbols\n",
    "\n",
    "from statsmodels.stats.diagnostic import acorr_ljungbox\n",
    "from statsmodels.stats.stattools import jarque_bera\n",
    "from statsmodels.graphics.tsaplots import plot_acf\n",
    "from statsmodels.stats.diagnostic import het_arch\n",
    "from statsmodels.tsa.tsatools import vech\n",
    "\n",
    "from scipy.optimize import least_squares\n",
    "from scipy.optimize import fsolve\n",
    "import scipy.stats as stats\n",
    "from scipy.stats import chi2\n",
    "from scipy.stats import f\n",
    "\n",
    "from pathlib import Path\n",
    "import pandas as pd\n",
    "import numpy as np\n",
    "import random\n",
    "import sys\n",
    "import os\n",
    "\n",
    "import warnings\n",
    "warnings.filterwarnings(\"ignore\", message=\"Setting `xtol` below the machine epsilon\")\n",
    "warnings.filterwarnings(\"ignore\", message=\"Setting `gtol` below the machine epsilon\")\n",
    "warnings.filterwarnings(\"ignore\", category=RuntimeWarning)\n",
    "\n",
    "%load_ext autoreload\n",
    "%autoreload 2\n",
    "\n",
    "\n",
    "current_dir = Path.cwd()\n",
    "sys.path.append(f\"{current_dir}\")\n",
    "\n",
    "# Save output:\n",
    "Python_path = None\n",
    "LaTeX_path = None # LaTeX editor Texifier for macOS (https://www.texifier.com) highly recommended\n",
    "\n",
    "\n",
    "pd.options.display.float_format = '{:.4f}'.format  # Ændrer til 4 decimale4\n",
    "\n",
    "color_navy = '#{:02x}{:02x}{:02x}'.format(85, 108, 131)\n",
    "colors_navy = [\"#a5c6e2\", \"#80afd6\", \"#5b97ca\", \"#3b7fb9\", \"#2f6694\", \"#234c6f\", \"#17334a\", \"#0b1925\"]\n",
    "colors_pastel = sns.color_palette(\"pastel\", 10)\n",
    "colors_pastel"
   ]
  },
  {
   "cell_type": "code",
   "execution_count": null,
   "metadata": {},
   "outputs": [],
   "source": [
    "# Data:\n",
    "result = pd.read_excel(f'{current_dir}/Data & Estimates/1000_2019.xlsx')\n",
    "\n",
    "# Very important:\n",
    "list_of_info = [\"Dates: 1979-2003 (Monthly)\",\"Real Money Balance\",\"Real GDP\", \"Interest Rate Spread\"]\n",
    "list_of_info_latex = [r\"$\\ln(M_t/P_t)$\", r\"$\\ln(Y_t)$\",\tr\"$R$\"]\n",
    "K = len(result.drop(columns=[\"Dates\"]).columns)\n",
    "\n",
    "# Package/module:\n",
    "from Structural_Vector_Autoregressive_Analysis import BaseClass\n",
    "\n",
    "# Initialiser BaseClass med ønskede parametre\n",
    "Base_initialize = BaseClass(LaTeX_path = None,                          # Can be None or LaTeX_path if LaTeX_path =! None it will save Tables/Plots to the LaTeX_path\n",
    "                            Python_path = Python_path,                  # Path to Python folder\n",
    "                            list_of_info_latex = list_of_info_latex,    # List of variable\n",
    "                            list_of_info = list_of_info,                # List of names for each variable \n",
    "                            # Path to JCV.npy, PSSCV.npy and SigLevels.xlsx\n",
    "                            path = f\"{current_dir}/Data & Estimates/\")    \n",
    "\n",
    "from Structural_Vector_Autoregressive_Analysis import Initial_Tools as SVAR_IT\n",
    "SVAR_IT = SVAR_IT(Base_initialize, date_column=\"Dates\")"
   ]
  },
  {
   "cell_type": "markdown",
   "metadata": {},
   "source": [
    "## $\\text{Q1}$\n",
    "The data is already in natural logarithms (real money balance and real GDP are in logs whereas the money market rate is in p ercent). Plot the data and perform graphical analysis in order to assess the degree of integration of all three variables"
   ]
  },
  {
   "cell_type": "code",
   "execution_count": 3,
   "metadata": {},
   "outputs": [
    {
     "data": {
      "image/png": "[encoded data removed]",
      "text/plain": [
       "<Figure size 1000x250 with 2 Axes>"
      ]
     },
     "metadata": {},
     "output_type": "display_data"
    },
    {
     "data": {
      "image/png": "[encoded data removed]",
      "text/plain": [
       "<Figure size 500x250 with 1 Axes>"
      ]
     },
     "metadata": {},
     "output_type": "display_data"
    },
    {
     "name": "stdout",
     "output_type": "stream",
     "text": [
      "All variables have the same sample size: 300\n"
     ]
    },
    {
     "data": {
      "text/html": [
       "<div>\n",
       "<style scoped>\n",
       "    .dataframe tbody tr th:only-of-type {\n",
       "        vertical-align: middle;\n",
       "    }\n",
       "\n",
       "    .dataframe tbody tr th {\n",
       "        vertical-align: top;\n",
       "    }\n",
       "\n",
       "    .dataframe thead th {\n",
       "        text-align: right;\n",
       "    }\n",
       "</style>\n",
       "<table border=\"1\" class=\"dataframe\">\n",
       "  <thead>\n",
       "    <tr style=\"text-align: right;\">\n",
       "      <th></th>\n",
       "      <th>Mean</th>\n",
       "      <th>Median</th>\n",
       "      <th>Min</th>\n",
       "      <th>Max</th>\n",
       "      <th>Std. Dev.</th>\n",
       "    </tr>\n",
       "  </thead>\n",
       "  <tbody>\n",
       "    <tr>\n",
       "      <th>Real Money Balance</th>\n",
       "      <td>5.7565</td>\n",
       "      <td>5.7068</td>\n",
       "      <td>5.4072</td>\n",
       "      <td>6.2560</td>\n",
       "      <td>0.2088</td>\n",
       "    </tr>\n",
       "    <tr>\n",
       "      <th>Real GDP</th>\n",
       "      <td>8.4227</td>\n",
       "      <td>8.4102</td>\n",
       "      <td>8.0077</td>\n",
       "      <td>8.9462</td>\n",
       "      <td>0.2799</td>\n",
       "    </tr>\n",
       "    <tr>\n",
       "      <th>Interest Rate Spread</th>\n",
       "      <td>0.1332</td>\n",
       "      <td>0.1367</td>\n",
       "      <td>0.0590</td>\n",
       "      <td>0.2175</td>\n",
       "      <td>0.0321</td>\n",
       "    </tr>\n",
       "  </tbody>\n",
       "</table>\n",
       "</div>"
      ],
      "text/plain": [
       "                       Mean  Median    Min    Max  Std. Dev.\n",
       "Real Money Balance   5.7565  5.7068 5.4072 6.2560     0.2088\n",
       "Real GDP             8.4227  8.4102 8.0077 8.9462     0.2799\n",
       "Interest Rate Spread 0.1332  0.1367 0.0590 0.2175     0.0321"
      ]
     },
     "metadata": {},
     "output_type": "display_data"
    }
   ],
   "source": [
    "SVAR_IT.Data_plot(result,Save=False)\n",
    "SVAR_IT.Descriptive_Statistics(result, display_data=True)\n",
    "y_clean_data = SVAR_IT.clean_data(result,display_data=False)"
   ]
  },
  {
   "cell_type": "markdown",
   "metadata": {},
   "source": [
    "### The Vector Error Correction Model\n",
    "Suppose that the three variables in the money demand function are either $I(1)$ or $I(0)$ and that the underlying data generating process is a trivariate Vector Autoregressive (VAR) model, \n",
    "$$y_t=\\nu+A_1y_{t−1}+\\ldots+A_py_{t−p}+u_t\\tag{3}$$\n",
    "where $y_t=\\begin{pmatrix}m&y&r\\end{pmatrix}'$, $p$ is the lag length, $\\nu$ is a constant term and $u_t$ is a trivariate zero mean white noise pro cess with covariance matrix $\\Sigma_u$ such that $u_t\\sim (0,\\Sigma_u)$. Then we can rewrite the VAR model as the following Vector Error Correction (VEC) model\n",
    "$$\\Delta y_t=\\nu+\\Pi y_{t−1}+\\Gamma_1\\Delta y_{t−1}+\\cdots+\\Gamma_{p−1}\\Delta y_{t−p+1}+u_t\\tag{4}$$\n",
    "where\n",
    "$$\n",
    "\\Pi=−(I_3−A_1−\\ldots−A_p)$$\n",
    "and\n",
    "$$Γ_i=−(A_{i+1}+\\cdots+A_p)\\quad\\text{ for }~~i = 1,...,p −1$$\n",
    "\n",
    "The rank of $\\Pi$ is equal to the numb er of cointegration vectors $r$ and can be decomposed as a product of two $3\\times r$ matrices of full rank, $\\Pi=\\alpha\\beta'$ where α is the $3\\times r$ adjustment coefficients\n",
    "and $\\beta$ is the $3\\times r$ cointegration vectors"
   ]
  },
  {
   "cell_type": "markdown",
   "metadata": {},
   "source": [
    "## $\\text{Q2}$\n",
    "Formulate a well-specified VEC model for $y_t$ similar to the VEC model above. Explain your workflow and how you argue for your choice of the number of autoregressive lags in the VEC model (and in its associate VAR model)\n"
   ]
  },
  {
   "cell_type": "code",
   "execution_count": 4,
   "metadata": {},
   "outputs": [],
   "source": [
    "from Structural_Vector_Autoregressive_Analysis import Lag_Order_Determination as SVAR_LOD\n",
    "SVAR_LOD = SVAR_LOD(Base_initialize, y_dataframe=y_clean_data)\n",
    "\n",
    "from Structural_Vector_Autoregressive_Analysis import Diagnostic_Testing as SVAR_DT\n",
    "SVAR_DT = SVAR_DT(Base_initialize, y_dataframe=y_clean_data)\n",
    " \n",
    "from Structural_Vector_Autoregressive_Analysis import Univariate_Diagnostic_Testing as SVAR_UDT\n",
    "SVAR_UDT = SVAR_UDT(Base_initialize, y_dataframe=y_clean_data)\n",
    "\n",
    "from Structural_Vector_Autoregressive_Analysis import Testing_Cointegration as SVAR_TC\n",
    "SVAR_TC = SVAR_TC(Base_initialize, y_dataframe=y_clean_data)"
   ]
  },
  {
   "cell_type": "code",
   "execution_count": 5,
   "metadata": {},
   "outputs": [
    {
     "data": {
      "text/html": [
       "<style type=\"text/css\">\n",
       "</style>\n",
       "<table id=\"T_e095d\">\n",
       "  <thead>\n",
       "    <tr>\n",
       "      <th id=\"T_e095d_level0_col0\" class=\"col_heading level0 col0\" >Lag</th>\n",
       "      <th id=\"T_e095d_level0_col1\" class=\"col_heading level0 col1\" >SIC</th>\n",
       "      <th id=\"T_e095d_level0_col2\" class=\"col_heading level0 col2\" >HQ</th>\n",
       "      <th id=\"T_e095d_level0_col3\" class=\"col_heading level0 col3\" >AIC</th>\n",
       "    </tr>\n",
       "  </thead>\n",
       "  <tbody>\n",
       "    <tr>\n",
       "      <td id=\"T_e095d_row0_col0\" class=\"data row0 col0\" >0</td>\n",
       "      <td id=\"T_e095d_row0_col1\" class=\"data row0 col1\" >-14.976227</td>\n",
       "      <td id=\"T_e095d_row0_col2\" class=\"data row0 col2\" >-15.000534</td>\n",
       "      <td id=\"T_e095d_row0_col3\" class=\"data row0 col3\" >-15.016863</td>\n",
       "    </tr>\n",
       "    <tr>\n",
       "      <td id=\"T_e095d_row1_col0\" class=\"data row1 col0\" >1</td>\n",
       "      <td id=\"T_e095d_row1_col1\" class=\"data row1 col1\" >-28.460632</td>\n",
       "      <td id=\"T_e095d_row1_col2\" class=\"data row1 col2\" >-28.557860</td>\n",
       "      <td id=\"T_e095d_row1_col3\" class=\"data row1 col3\" >-28.623175</td>\n",
       "    </tr>\n",
       "    <tr>\n",
       "      <td id=\"T_e095d_row2_col0\" class=\"data row2 col0\" >2</td>\n",
       "      <td id=\"T_e095d_row2_col1\" class=\"data row2 col1\" >-28.771172</td>\n",
       "      <td id=\"T_e095d_row2_col2\" class=\"data row2 col2\" >-28.941322</td>\n",
       "      <td id=\"T_e095d_row2_col3\" class=\"data row2 col3\" >-29.055623</td>\n",
       "    </tr>\n",
       "    <tr>\n",
       "      <td id=\"T_e095d_row3_col0\" class=\"data row3 col0\" >3</td>\n",
       "      <td id=\"T_e095d_row3_col1\" class=\"data row3 col1\" >-28.617940</td>\n",
       "      <td id=\"T_e095d_row3_col2\" class=\"data row3 col2\" >-28.861011</td>\n",
       "      <td id=\"T_e095d_row3_col3\" class=\"data row3 col3\" >-29.024298</td>\n",
       "    </tr>\n",
       "    <tr>\n",
       "      <td id=\"T_e095d_row4_col0\" class=\"data row4 col0\" >4</td>\n",
       "      <td id=\"T_e095d_row4_col1\" class=\"data row4 col1\" >-28.460763</td>\n",
       "      <td id=\"T_e095d_row4_col2\" class=\"data row4 col2\" >-28.776756</td>\n",
       "      <td id=\"T_e095d_row4_col3\" class=\"data row4 col3\" >-28.989029</td>\n",
       "    </tr>\n",
       "    <tr>\n",
       "      <td id=\"T_e095d_row5_col0\" class=\"data row5 col0\" >5</td>\n",
       "      <td id=\"T_e095d_row5_col1\" class=\"data row5 col1\" >-28.297988</td>\n",
       "      <td id=\"T_e095d_row5_col2\" class=\"data row5 col2\" >-28.686902</td>\n",
       "      <td id=\"T_e095d_row5_col3\" class=\"data row5 col3\" >-28.948161</td>\n",
       "    </tr>\n",
       "    <tr>\n",
       "      <td id=\"T_e095d_row6_col0\" class=\"data row6 col0\" >6</td>\n",
       "      <td id=\"T_e095d_row6_col1\" class=\"data row6 col1\" >-28.121970</td>\n",
       "      <td id=\"T_e095d_row6_col2\" class=\"data row6 col2\" >-28.583804</td>\n",
       "      <td id=\"T_e095d_row6_col3\" class=\"data row6 col3\" >-28.894050</td>\n",
       "    </tr>\n",
       "    <tr>\n",
       "      <td id=\"T_e095d_row7_col0\" class=\"data row7 col0\" >7</td>\n",
       "      <td id=\"T_e095d_row7_col1\" class=\"data row7 col1\" >-27.964469</td>\n",
       "      <td id=\"T_e095d_row7_col2\" class=\"data row7 col2\" >-28.499225</td>\n",
       "      <td id=\"T_e095d_row7_col3\" class=\"data row7 col3\" >-28.858456</td>\n",
       "    </tr>\n",
       "    <tr>\n",
       "      <td id=\"T_e095d_row8_col0\" class=\"data row8 col0\" >8</td>\n",
       "      <td id=\"T_e095d_row8_col1\" class=\"data row8 col1\" >-27.814604</td>\n",
       "      <td id=\"T_e095d_row8_col2\" class=\"data row8 col2\" >-28.422281</td>\n",
       "      <td id=\"T_e095d_row8_col3\" class=\"data row8 col3\" >-28.830499</td>\n",
       "    </tr>\n",
       "    <tr>\n",
       "      <td id=\"T_e095d_row9_col0\" class=\"data row9 col0\" >9</td>\n",
       "      <td id=\"T_e095d_row9_col1\" class=\"data row9 col1\" >-27.693482</td>\n",
       "      <td id=\"T_e095d_row9_col2\" class=\"data row9 col2\" >-28.374080</td>\n",
       "      <td id=\"T_e095d_row9_col3\" class=\"data row9 col3\" >-28.831283</td>\n",
       "    </tr>\n",
       "    <tr>\n",
       "      <td id=\"T_e095d_row10_col0\" class=\"data row10 col0\" >10</td>\n",
       "      <td id=\"T_e095d_row10_col1\" class=\"data row10 col1\" >-27.548584</td>\n",
       "      <td id=\"T_e095d_row10_col2\" class=\"data row10 col2\" >-28.302104</td>\n",
       "      <td id=\"T_e095d_row10_col3\" class=\"data row10 col3\" >-28.808293</td>\n",
       "    </tr>\n",
       "    <tr>\n",
       "      <td id=\"T_e095d_row11_col0\" class=\"data row11 col0\" >11</td>\n",
       "      <td id=\"T_e095d_row11_col1\" class=\"data row11 col1\" >-27.394451</td>\n",
       "      <td id=\"T_e095d_row11_col2\" class=\"data row11 col2\" >-28.220892</td>\n",
       "      <td id=\"T_e095d_row11_col3\" class=\"data row11 col3\" >-28.776068</td>\n",
       "    </tr>\n",
       "    <tr>\n",
       "      <td id=\"T_e095d_row12_col0\" class=\"data row12 col0\" >12</td>\n",
       "      <td id=\"T_e095d_row12_col1\" class=\"data row12 col1\" >-27.254533</td>\n",
       "      <td id=\"T_e095d_row12_col2\" class=\"data row12 col2\" >-28.153895</td>\n",
       "      <td id=\"T_e095d_row12_col3\" class=\"data row12 col3\" >-28.758057</td>\n",
       "    </tr>\n",
       "    <tr>\n",
       "      <td id=\"T_e095d_row13_col0\" class=\"data row13 col0\" >13</td>\n",
       "      <td id=\"T_e095d_row13_col1\" class=\"data row13 col1\" >-27.120852</td>\n",
       "      <td id=\"T_e095d_row13_col2\" class=\"data row13 col2\" >-28.093136</td>\n",
       "      <td id=\"T_e095d_row13_col3\" class=\"data row13 col3\" >-28.746284</td>\n",
       "    </tr>\n",
       "    <tr>\n",
       "      <td id=\"T_e095d_row14_col0\" class=\"data row14 col0\" >14</td>\n",
       "      <td id=\"T_e095d_row14_col1\" class=\"data row14 col1\" >-26.970282</td>\n",
       "      <td id=\"T_e095d_row14_col2\" class=\"data row14 col2\" >-28.015487</td>\n",
       "      <td id=\"T_e095d_row14_col3\" class=\"data row14 col3\" >-28.717621</td>\n",
       "    </tr>\n",
       "    <tr>\n",
       "      <td id=\"T_e095d_row15_col0\" class=\"data row15 col0\" >15</td>\n",
       "      <td id=\"T_e095d_row15_col1\" class=\"data row15 col1\" >-26.841332</td>\n",
       "      <td id=\"T_e095d_row15_col2\" class=\"data row15 col2\" >-27.959458</td>\n",
       "      <td id=\"T_e095d_row15_col3\" class=\"data row15 col3\" >-28.710578</td>\n",
       "    </tr>\n",
       "    <tr>\n",
       "      <td id=\"T_e095d_row16_col0\" class=\"data row16 col0\" >16</td>\n",
       "      <td id=\"T_e095d_row16_col1\" class=\"data row16 col1\" >-26.669786</td>\n",
       "      <td id=\"T_e095d_row16_col2\" class=\"data row16 col2\" >-27.860833</td>\n",
       "      <td id=\"T_e095d_row16_col3\" class=\"data row16 col3\" >-28.660939</td>\n",
       "    </tr>\n",
       "    <tr>\n",
       "      <td id=\"T_e095d_row17_col0\" class=\"data row17 col0\" >17</td>\n",
       "      <td id=\"T_e095d_row17_col1\" class=\"data row17 col1\" >-26.538045</td>\n",
       "      <td id=\"T_e095d_row17_col2\" class=\"data row17 col2\" >-27.802014</td>\n",
       "      <td id=\"T_e095d_row17_col3\" class=\"data row17 col3\" >-28.651106</td>\n",
       "    </tr>\n",
       "    <tr>\n",
       "      <td id=\"T_e095d_row18_col0\" class=\"data row18 col0\" >18</td>\n",
       "      <td id=\"T_e095d_row18_col1\" class=\"data row18 col1\" >-26.387697</td>\n",
       "      <td id=\"T_e095d_row18_col2\" class=\"data row18 col2\" >-27.724587</td>\n",
       "      <td id=\"T_e095d_row18_col3\" class=\"data row18 col3\" >-28.622665</td>\n",
       "    </tr>\n",
       "    <tr>\n",
       "      <td id=\"T_e095d_row19_col0\" class=\"data row19 col0\" >19</td>\n",
       "      <td id=\"T_e095d_row19_col1\" class=\"data row19 col1\" >-26.260245</td>\n",
       "      <td id=\"T_e095d_row19_col2\" class=\"data row19 col2\" >-27.670056</td>\n",
       "      <td id=\"T_e095d_row19_col3\" class=\"data row19 col3\" >-28.617121</td>\n",
       "    </tr>\n",
       "    <tr>\n",
       "      <td id=\"T_e095d_row20_col0\" class=\"data row20 col0\" >20</td>\n",
       "      <td id=\"T_e095d_row20_col1\" class=\"data row20 col1\" >-26.096003</td>\n",
       "      <td id=\"T_e095d_row20_col2\" class=\"data row20 col2\" >-27.578736</td>\n",
       "      <td id=\"T_e095d_row20_col3\" class=\"data row20 col3\" >-28.574786</td>\n",
       "    </tr>\n",
       "    <tr>\n",
       "      <td id=\"T_e095d_row21_col0\" class=\"data row21 col0\" >21</td>\n",
       "      <td id=\"T_e095d_row21_col1\" class=\"data row21 col1\" >-25.978911</td>\n",
       "      <td id=\"T_e095d_row21_col2\" class=\"data row21 col2\" >-27.534565</td>\n",
       "      <td id=\"T_e095d_row21_col3\" class=\"data row21 col3\" >-28.579601</td>\n",
       "    </tr>\n",
       "    <tr>\n",
       "      <td id=\"T_e095d_row22_col0\" class=\"data row22 col0\" >22</td>\n",
       "      <td id=\"T_e095d_row22_col1\" class=\"data row22 col1\" >-25.815841</td>\n",
       "      <td id=\"T_e095d_row22_col2\" class=\"data row22 col2\" >-27.444417</td>\n",
       "      <td id=\"T_e095d_row22_col3\" class=\"data row22 col3\" >-28.538439</td>\n",
       "    </tr>\n",
       "    <tr>\n",
       "      <td id=\"T_e095d_row23_col0\" class=\"data row23 col0\" >23</td>\n",
       "      <td id=\"T_e095d_row23_col1\" class=\"data row23 col1\" >-25.653400</td>\n",
       "      <td id=\"T_e095d_row23_col2\" class=\"data row23 col2\" >-27.354896</td>\n",
       "      <td id=\"T_e095d_row23_col3\" class=\"data row23 col3\" >-28.497905</td>\n",
       "    </tr>\n",
       "    <tr>\n",
       "      <td id=\"T_e095d_row24_col0\" class=\"data row24 col0\" >24</td>\n",
       "      <td id=\"T_e095d_row24_col1\" class=\"data row24 col1\" >-25.499911</td>\n",
       "      <td id=\"T_e095d_row24_col2\" class=\"data row24 col2\" >-27.274329</td>\n",
       "      <td id=\"T_e095d_row24_col3\" class=\"data row24 col3\" >-28.466323</td>\n",
       "    </tr>\n",
       "    <tr>\n",
       "      <td id=\"T_e095d_row25_col0\" class=\"data row25 col0\" >25</td>\n",
       "      <td id=\"T_e095d_row25_col1\" class=\"data row25 col1\" >-25.358263</td>\n",
       "      <td id=\"T_e095d_row25_col2\" class=\"data row25 col2\" >-27.205602</td>\n",
       "      <td id=\"T_e095d_row25_col3\" class=\"data row25 col3\" >-28.446583</td>\n",
       "    </tr>\n",
       "    <tr>\n",
       "      <td id=\"T_e095d_row26_col0\" class=\"data row26 col0\" >26</td>\n",
       "      <td id=\"T_e095d_row26_col1\" class=\"data row26 col1\" >-25.230576</td>\n",
       "      <td id=\"T_e095d_row26_col2\" class=\"data row26 col2\" >-27.150836</td>\n",
       "      <td id=\"T_e095d_row26_col3\" class=\"data row26 col3\" >-28.440803</td>\n",
       "    </tr>\n",
       "    <tr>\n",
       "      <td id=\"T_e095d_row27_col0\" class=\"data row27 col0\" >27</td>\n",
       "      <td id=\"T_e095d_row27_col1\" class=\"data row27 col1\" >-25.082342</td>\n",
       "      <td id=\"T_e095d_row27_col2\" class=\"data row27 col2\" >-27.075523</td>\n",
       "      <td id=\"T_e095d_row27_col3\" class=\"data row27 col3\" >-28.414476</td>\n",
       "    </tr>\n",
       "    <tr>\n",
       "      <td id=\"T_e095d_row28_col0\" class=\"data row28 col0\" >28</td>\n",
       "      <td id=\"T_e095d_row28_col1\" class=\"data row28 col1\" >-24.969711</td>\n",
       "      <td id=\"T_e095d_row28_col2\" class=\"data row28 col2\" >-27.035814</td>\n",
       "      <td id=\"T_e095d_row28_col3\" class=\"data row28 col3\" >-28.423753</td>\n",
       "    </tr>\n",
       "    <tr>\n",
       "      <td id=\"T_e095d_row29_col0\" class=\"data row29 col0\" >29</td>\n",
       "      <td id=\"T_e095d_row29_col1\" class=\"data row29 col1\" >-24.803210</td>\n",
       "      <td id=\"T_e095d_row29_col2\" class=\"data row29 col2\" >-26.942234</td>\n",
       "      <td id=\"T_e095d_row29_col3\" class=\"data row29 col3\" >-28.379159</td>\n",
       "    </tr>\n",
       "    <tr>\n",
       "      <td id=\"T_e095d_row30_col0\" class=\"data row30 col0\" >30</td>\n",
       "      <td id=\"T_e095d_row30_col1\" class=\"data row30 col1\" >-24.676101</td>\n",
       "      <td id=\"T_e095d_row30_col2\" class=\"data row30 col2\" >-26.888046</td>\n",
       "      <td id=\"T_e095d_row30_col3\" class=\"data row30 col3\" >-28.373958</td>\n",
       "    </tr>\n",
       "    <tr>\n",
       "      <td id=\"T_e095d_row31_col0\" class=\"data row31 col0\" >31</td>\n",
       "      <td id=\"T_e095d_row31_col1\" class=\"data row31 col1\" >-24.547857</td>\n",
       "      <td id=\"T_e095d_row31_col2\" class=\"data row31 col2\" >-26.832723</td>\n",
       "      <td id=\"T_e095d_row31_col3\" class=\"data row31 col3\" >-28.367621</td>\n",
       "    </tr>\n",
       "    <tr>\n",
       "      <td id=\"T_e095d_row32_col0\" class=\"data row32 col0\" >32</td>\n",
       "      <td id=\"T_e095d_row32_col1\" class=\"data row32 col1\" >-24.404008</td>\n",
       "      <td id=\"T_e095d_row32_col2\" class=\"data row32 col2\" >-26.761796</td>\n",
       "      <td id=\"T_e095d_row32_col3\" class=\"data row32 col3\" >-28.345679</td>\n",
       "    </tr>\n",
       "    <tr>\n",
       "      <td id=\"T_e095d_row33_col0\" class=\"data row33 col0\" >33</td>\n",
       "      <td id=\"T_e095d_row33_col1\" class=\"data row33 col1\" >-24.268669</td>\n",
       "      <td id=\"T_e095d_row33_col2\" class=\"data row33 col2\" >-26.699378</td>\n",
       "      <td id=\"T_e095d_row33_col3\" class=\"data row33 col3\" >-28.332247</td>\n",
       "    </tr>\n",
       "    <tr>\n",
       "      <td id=\"T_e095d_row34_col0\" class=\"data row34 col0\" >34</td>\n",
       "      <td id=\"T_e095d_row34_col1\" class=\"data row34 col1\" >-24.149772</td>\n",
       "      <td id=\"T_e095d_row34_col2\" class=\"data row34 col2\" >-26.653402</td>\n",
       "      <td id=\"T_e095d_row34_col3\" class=\"data row34 col3\" >-28.335258</td>\n",
       "    </tr>\n",
       "    <tr>\n",
       "      <td id=\"T_e095d_row35_col0\" class=\"data row35 col0\" >35</td>\n",
       "      <td id=\"T_e095d_row35_col1\" class=\"data row35 col1\" >-23.983850</td>\n",
       "      <td id=\"T_e095d_row35_col2\" class=\"data row35 col2\" >-26.560401</td>\n",
       "      <td id=\"T_e095d_row35_col3\" class=\"data row35 col3\" >-28.291243</td>\n",
       "    </tr>\n",
       "    <tr>\n",
       "      <td id=\"T_e095d_row36_col0\" class=\"data row36 col0\" >36</td>\n",
       "      <td id=\"T_e095d_row36_col1\" class=\"data row36 col1\" >-23.824915</td>\n",
       "      <td id=\"T_e095d_row36_col2\" class=\"data row36 col2\" >-26.474388</td>\n",
       "      <td id=\"T_e095d_row36_col3\" class=\"data row36 col3\" >-28.254216</td>\n",
       "    </tr>\n",
       "  </tbody>\n",
       "</table>\n"
      ],
      "text/plain": [
       "<pandas.io.formats.style.Styler at 0x305dccb10>"
      ]
     },
     "metadata": {},
     "output_type": "display_data"
    }
   ],
   "source": [
    "_ = SVAR_LOD.Information_Criteria(maximum_lag_length=36, Trend=False, Show=True)"
   ]
  },
  {
   "cell_type": "code",
   "execution_count": 6,
   "metadata": {},
   "outputs": [
    {
     "data": {
      "text/html": [
       "<style type=\"text/css\">\n",
       "</style>\n",
       "<table id=\"T_e3217\">\n",
       "  <thead>\n",
       "    <tr>\n",
       "      <th id=\"T_e3217_level0_col0\" class=\"col_heading level0 col0\" >Lag</th>\n",
       "      <th id=\"T_e3217_level0_col1\" class=\"col_heading level0 col1\" >Log. Likelihood</th>\n",
       "      <th id=\"T_e3217_level0_col2\" class=\"col_heading level0 col2\" >LR test</th>\n",
       "      <th id=\"T_e3217_level0_col3\" class=\"col_heading level0 col3\" >p-value</th>\n",
       "    </tr>\n",
       "  </thead>\n",
       "  <tbody>\n",
       "    <tr>\n",
       "      <td id=\"T_e3217_row0_col0\" class=\"data row0 col0\" >0</td>\n",
       "      <td id=\"T_e3217_row0_col1\" class=\"data row0 col1\" >-4382.673339</td>\n",
       "      <td id=\"T_e3217_row0_col2\" class=\"data row0 col2\" ></td>\n",
       "      <td id=\"T_e3217_row0_col3\" class=\"data row0 col3\" ></td>\n",
       "    </tr>\n",
       "    <tr>\n",
       "      <td id=\"T_e3217_row1_col0\" class=\"data row1 col0\" >1</td>\n",
       "      <td id=\"T_e3217_row1_col1\" class=\"data row1 col1\" >-8484.034093</td>\n",
       "      <td id=\"T_e3217_row1_col2\" class=\"data row1 col2\" >4101.360755</td>\n",
       "      <td id=\"T_e3217_row1_col3\" class=\"data row1 col3\" >0.000000</td>\n",
       "    </tr>\n",
       "    <tr>\n",
       "      <td id=\"T_e3217_row2_col0\" class=\"data row2 col0\" >2</td>\n",
       "      <td id=\"T_e3217_row2_col1\" class=\"data row2 col1\" >-8633.787546</td>\n",
       "      <td id=\"T_e3217_row2_col2\" class=\"data row2 col2\" >149.753453</td>\n",
       "      <td id=\"T_e3217_row2_col3\" class=\"data row2 col3\" >0.000000</td>\n",
       "    </tr>\n",
       "    <tr>\n",
       "      <td id=\"T_e3217_row3_col0\" class=\"data row3 col0\" >3</td>\n",
       "      <td id=\"T_e3217_row3_col1\" class=\"data row3 col1\" >-8644.665572</td>\n",
       "      <td id=\"T_e3217_row3_col2\" class=\"data row3 col2\" >10.878026</td>\n",
       "      <td id=\"T_e3217_row3_col3\" class=\"data row3 col3\" >0.284162</td>\n",
       "    </tr>\n",
       "    <tr>\n",
       "      <td id=\"T_e3217_row4_col0\" class=\"data row4 col0\" >4</td>\n",
       "      <td id=\"T_e3217_row4_col1\" class=\"data row4 col1\" >-8652.464107</td>\n",
       "      <td id=\"T_e3217_row4_col2\" class=\"data row4 col2\" >7.798535</td>\n",
       "      <td id=\"T_e3217_row4_col3\" class=\"data row4 col3\" >0.554570</td>\n",
       "    </tr>\n",
       "  </tbody>\n",
       "</table>\n"
      ],
      "text/plain": [
       "<pandas.io.formats.style.Styler at 0x305e732d0>"
      ]
     },
     "metadata": {},
     "output_type": "display_data"
    }
   ],
   "source": [
    "_ = SVAR_LOD.Top_Down_Sequence(maximum_lag_length=4, Trend=False, Show=True)\n",
    "# # Michael Bergman's computed log-likelihood differs from this one.\n",
    "# # LR test and p-value is the same."
   ]
  },
  {
   "cell_type": "code",
   "execution_count": 7,
   "metadata": {},
   "outputs": [
    {
     "data": {
      "text/html": [
       "<style type=\"text/css\">\n",
       "</style>\n",
       "<table id=\"T_c362a\">\n",
       "  <thead>\n",
       "    <tr>\n",
       "      <th id=\"T_c362a_level0_col0\" class=\"col_heading level0 col0\" >Lag</th>\n",
       "      <th id=\"T_c362a_level0_col1\" class=\"col_heading level0 col1\" >SIC</th>\n",
       "      <th id=\"T_c362a_level0_col2\" class=\"col_heading level0 col2\" >HQ</th>\n",
       "      <th id=\"T_c362a_level0_col3\" class=\"col_heading level0 col3\" >AIC</th>\n",
       "      <th id=\"T_c362a_level0_col4\" class=\"col_heading level0 col4\" >LR Test</th>\n",
       "    </tr>\n",
       "  </thead>\n",
       "  <tbody>\n",
       "    <tr>\n",
       "      <td id=\"T_c362a_row0_col0\" class=\"data row0 col0\" >0</td>\n",
       "      <td id=\"T_c362a_row0_col1\" class=\"data row0 col1\" >-14.796</td>\n",
       "      <td id=\"T_c362a_row0_col2\" class=\"data row0 col2\" >-14.818</td>\n",
       "      <td id=\"T_c362a_row0_col3\" class=\"data row0 col3\" >-14.834</td>\n",
       "      <td id=\"T_c362a_row0_col4\" class=\"data row0 col4\" ></td>\n",
       "    </tr>\n",
       "    <tr>\n",
       "      <td id=\"T_c362a_row1_col0\" class=\"data row1 col0\" >1</td>\n",
       "      <td id=\"T_c362a_row1_col1\" class=\"data row1 col1\" >-28.463</td>\n",
       "      <td id=\"T_c362a_row1_col2\" class=\"data row1 col2\" >-28.554</td>\n",
       "      <td id=\"T_c362a_row1_col3\" class=\"data row1 col3\" >-28.616</td>\n",
       "      <td id=\"T_c362a_row1_col4\" class=\"data row1 col4\" >3987.195***</td>\n",
       "    </tr>\n",
       "    <tr>\n",
       "      <td id=\"T_c362a_row2_col0\" class=\"data row2 col0\" >2</td>\n",
       "      <td id=\"T_c362a_row2_col1\" class=\"data row2 col1\" >-28.804</td>\n",
       "      <td id=\"T_c362a_row2_col2\" class=\"data row2 col2\" >-28.964</td>\n",
       "      <td id=\"T_c362a_row2_col3\" class=\"data row2 col3\" >-29.071</td>\n",
       "      <td id=\"T_c362a_row2_col4\" class=\"data row2 col4\" >149.24***</td>\n",
       "    </tr>\n",
       "    <tr>\n",
       "      <td id=\"T_c362a_row3_col0\" class=\"data row3 col0\" >3</td>\n",
       "      <td id=\"T_c362a_row3_col1\" class=\"data row3 col1\" >-28.662</td>\n",
       "      <td id=\"T_c362a_row3_col2\" class=\"data row3 col2\" >-28.891</td>\n",
       "      <td id=\"T_c362a_row3_col3\" class=\"data row3 col3\" >-29.044</td>\n",
       "      <td id=\"T_c362a_row3_col4\" class=\"data row3 col4\" >10.098</td>\n",
       "    </tr>\n",
       "    <tr>\n",
       "      <td id=\"T_c362a_row4_col0\" class=\"data row4 col0\" >4</td>\n",
       "      <td id=\"T_c362a_row4_col1\" class=\"data row4 col1\" >-28.516</td>\n",
       "      <td id=\"T_c362a_row4_col2\" class=\"data row4 col2\" >-28.813</td>\n",
       "      <td id=\"T_c362a_row4_col3\" class=\"data row4 col3\" >-29.012</td>\n",
       "      <td id=\"T_c362a_row4_col4\" class=\"data row4 col4\" >8.709</td>\n",
       "    </tr>\n",
       "    <tr>\n",
       "      <td id=\"T_c362a_row5_col0\" class=\"data row5 col0\" >5</td>\n",
       "      <td id=\"T_c362a_row5_col1\" class=\"data row5 col1\" >-28.360</td>\n",
       "      <td id=\"T_c362a_row5_col2\" class=\"data row5 col2\" >-28.726</td>\n",
       "      <td id=\"T_c362a_row5_col3\" class=\"data row5 col3\" >-28.970</td>\n",
       "      <td id=\"T_c362a_row5_col4\" class=\"data row5 col4\" >6.062</td>\n",
       "    </tr>\n",
       "    <tr>\n",
       "      <td id=\"T_c362a_row6_col0\" class=\"data row6 col0\" >6</td>\n",
       "      <td id=\"T_c362a_row6_col1\" class=\"data row6 col1\" >-28.202</td>\n",
       "      <td id=\"T_c362a_row6_col2\" class=\"data row6 col2\" >-28.637</td>\n",
       "      <td id=\"T_c362a_row6_col3\" class=\"data row6 col3\" >-28.927</td>\n",
       "      <td id=\"T_c362a_row6_col4\" class=\"data row6 col4\" >5.659</td>\n",
       "    </tr>\n",
       "    <tr>\n",
       "      <td id=\"T_c362a_row7_col0\" class=\"data row7 col0\" >7</td>\n",
       "      <td id=\"T_c362a_row7_col1\" class=\"data row7 col1\" >-28.050</td>\n",
       "      <td id=\"T_c362a_row7_col2\" class=\"data row7 col2\" >-28.553</td>\n",
       "      <td id=\"T_c362a_row7_col3\" class=\"data row7 col3\" >-28.889</td>\n",
       "      <td id=\"T_c362a_row7_col4\" class=\"data row7 col4\" >6.962</td>\n",
       "    </tr>\n",
       "    <tr>\n",
       "      <td id=\"T_c362a_row8_col0\" class=\"data row8 col0\" >8</td>\n",
       "      <td id=\"T_c362a_row8_col1\" class=\"data row8 col1\" >-27.893</td>\n",
       "      <td id=\"T_c362a_row8_col2\" class=\"data row8 col2\" >-28.465</td>\n",
       "      <td id=\"T_c362a_row8_col3\" class=\"data row8 col3\" >-28.847</td>\n",
       "      <td id=\"T_c362a_row8_col4\" class=\"data row8 col4\" >5.867</td>\n",
       "    </tr>\n",
       "    <tr>\n",
       "      <td id=\"T_c362a_row9_col0\" class=\"data row9 col0\" >9</td>\n",
       "      <td id=\"T_c362a_row9_col1\" class=\"data row9 col1\" >-27.769</td>\n",
       "      <td id=\"T_c362a_row9_col2\" class=\"data row9 col2\" >-28.409</td>\n",
       "      <td id=\"T_c362a_row9_col3\" class=\"data row9 col3\" >-28.837</td>\n",
       "      <td id=\"T_c362a_row9_col4\" class=\"data row9 col4\" >15.257*</td>\n",
       "    </tr>\n",
       "    <tr>\n",
       "      <td id=\"T_c362a_row10_col0\" class=\"data row10 col0\" >10</td>\n",
       "      <td id=\"T_c362a_row10_col1\" class=\"data row10 col1\" >-27.620</td>\n",
       "      <td id=\"T_c362a_row10_col2\" class=\"data row10 col2\" >-28.329</td>\n",
       "      <td id=\"T_c362a_row10_col3\" class=\"data row10 col3\" >-28.803</td>\n",
       "      <td id=\"T_c362a_row10_col4\" class=\"data row10 col4\" >8.032</td>\n",
       "    </tr>\n",
       "    <tr>\n",
       "      <td id=\"T_c362a_row11_col0\" class=\"data row11 col0\" >11</td>\n",
       "      <td id=\"T_c362a_row11_col1\" class=\"data row11 col1\" >-27.487</td>\n",
       "      <td id=\"T_c362a_row11_col2\" class=\"data row11 col2\" >-28.264</td>\n",
       "      <td id=\"T_c362a_row11_col3\" class=\"data row11 col3\" >-28.784</td>\n",
       "      <td id=\"T_c362a_row11_col4\" class=\"data row11 col4\" >12.609</td>\n",
       "    </tr>\n",
       "    <tr>\n",
       "      <td id=\"T_c362a_row12_col0\" class=\"data row12 col0\" >12</td>\n",
       "      <td id=\"T_c362a_row12_col1\" class=\"data row12 col1\" >-27.352</td>\n",
       "      <td id=\"T_c362a_row12_col2\" class=\"data row12 col2\" >-28.198</td>\n",
       "      <td id=\"T_c362a_row12_col3\" class=\"data row12 col3\" >-28.764</td>\n",
       "      <td id=\"T_c362a_row12_col4\" class=\"data row12 col4\" >12.172</td>\n",
       "    </tr>\n",
       "    <tr>\n",
       "      <td id=\"T_c362a_row13_col0\" class=\"data row13 col0\" >Optimal</td>\n",
       "      <td id=\"T_c362a_row13_col1\" class=\"data row13 col1\" >2</td>\n",
       "      <td id=\"T_c362a_row13_col2\" class=\"data row13 col2\" >2</td>\n",
       "      <td id=\"T_c362a_row13_col3\" class=\"data row13 col3\" >2</td>\n",
       "      <td id=\"T_c362a_row13_col4\" class=\"data row13 col4\" ></td>\n",
       "    </tr>\n",
       "  </tbody>\n",
       "</table>\n"
      ],
      "text/plain": [
       "<pandas.io.formats.style.Styler at 0x179639610>"
      ]
     },
     "execution_count": 7,
     "metadata": {},
     "output_type": "execute_result"
    }
   ],
   "source": [
    "SVAR_LOD.Combined_Lag_Selection(maximum_lag_length=12, Trend = False, LaTeX=False)"
   ]
  },
  {
   "cell_type": "markdown",
   "metadata": {},
   "source": [
    "## $\\text{Q3}$\n",
    "Test for multivariate autocorrelation, heteroscedasticity and normality. Do es your model satisfy the underlying assumptions?"
   ]
  },
  {
   "cell_type": "code",
   "execution_count": 8,
   "metadata": {},
   "outputs": [
    {
     "data": {
      "text/html": [
       "<style type=\"text/css\">\n",
       "</style>\n",
       "<table id=\"T_2c73c\">\n",
       "  <thead>\n",
       "    <tr>\n",
       "      <th id=\"T_2c73c_level0_col0\" class=\"col_heading level0 col0\" >Lag</th>\n",
       "      <th id=\"T_2c73c_level0_col1\" class=\"col_heading level0 col1\" >No Constant, No Trend</th>\n",
       "      <th id=\"T_2c73c_level0_col2\" class=\"col_heading level0 col2\" >Constant Only</th>\n",
       "      <th id=\"T_2c73c_level0_col3\" class=\"col_heading level0 col3\" >Trend Only</th>\n",
       "      <th id=\"T_2c73c_level0_col4\" class=\"col_heading level0 col4\" >Constant and Trend</th>\n",
       "    </tr>\n",
       "  </thead>\n",
       "  <tbody>\n",
       "    <tr>\n",
       "      <td id=\"T_2c73c_row0_col0\" class=\"data row0 col0\" >1</td>\n",
       "      <td id=\"T_2c73c_row0_col1\" class=\"data row0 col1\" >1.000540</td>\n",
       "      <td id=\"T_2c73c_row0_col2\" class=\"data row0 col2\" >1.001928</td>\n",
       "      <td id=\"T_2c73c_row0_col3\" class=\"data row0 col3\" >1.000089</td>\n",
       "      <td id=\"T_2c73c_row0_col4\" class=\"data row0 col4\" >0.980933</td>\n",
       "    </tr>\n",
       "    <tr>\n",
       "      <td id=\"T_2c73c_row1_col0\" class=\"data row1 col0\" >2</td>\n",
       "      <td id=\"T_2c73c_row1_col1\" class=\"data row1 col1\" >1.000518</td>\n",
       "      <td id=\"T_2c73c_row1_col2\" class=\"data row1 col2\" >1.001490</td>\n",
       "      <td id=\"T_2c73c_row1_col3\" class=\"data row1 col3\" >1.000198</td>\n",
       "      <td id=\"T_2c73c_row1_col4\" class=\"data row1 col4\" >0.963867</td>\n",
       "    </tr>\n",
       "    <tr>\n",
       "      <td id=\"T_2c73c_row2_col0\" class=\"data row2 col0\" >3</td>\n",
       "      <td id=\"T_2c73c_row2_col1\" class=\"data row2 col1\" >1.000532</td>\n",
       "      <td id=\"T_2c73c_row2_col2\" class=\"data row2 col2\" >1.001538</td>\n",
       "      <td id=\"T_2c73c_row2_col3\" class=\"data row2 col3\" >1.000150</td>\n",
       "      <td id=\"T_2c73c_row2_col4\" class=\"data row2 col4\" >0.968615</td>\n",
       "    </tr>\n",
       "  </tbody>\n",
       "</table>\n"
      ],
      "text/plain": [
       "<pandas.io.formats.style.Styler at 0x3056830d0>"
      ]
     },
     "execution_count": 8,
     "metadata": {},
     "output_type": "execute_result"
    }
   ],
   "source": [
    "SVAR_DT.Eigenvalue_Short_Table(maximum_lag_length=3, LaTeX=False)"
   ]
  },
  {
   "cell_type": "code",
   "execution_count": 9,
   "metadata": {},
   "outputs": [],
   "source": [
    "Constant = True\n",
    "Trend = False\n",
    "p = 2 # VAR Lags\n",
    "\n",
    "_, _, _, residuals, _, SIGMA = SVAR_DT.VAR_estimation_with_exogenous(lags=p,Constant=Constant,Trend=Trend)\n",
    "lag_h = 12\n",
    "lags_q = 6"
   ]
  },
  {
   "cell_type": "code",
   "execution_count": 10,
   "metadata": {},
   "outputs": [
    {
     "data": {
      "text/html": [
       "<div>\n",
       "<style scoped>\n",
       "    .dataframe tbody tr th:only-of-type {\n",
       "        vertical-align: middle;\n",
       "    }\n",
       "\n",
       "    .dataframe tbody tr th {\n",
       "        vertical-align: top;\n",
       "    }\n",
       "\n",
       "    .dataframe thead th {\n",
       "        text-align: right;\n",
       "    }\n",
       "</style>\n",
       "<table border=\"1\" class=\"dataframe\">\n",
       "  <thead>\n",
       "    <tr style=\"text-align: right;\">\n",
       "      <th></th>\n",
       "      <th>Test</th>\n",
       "      <th>Doornik_Hendry</th>\n",
       "    </tr>\n",
       "  </thead>\n",
       "  <tbody>\n",
       "    <tr>\n",
       "      <th>0</th>\n",
       "      <td>Test statistic</td>\n",
       "      <td>236.8189</td>\n",
       "    </tr>\n",
       "    <tr>\n",
       "      <th>1</th>\n",
       "      <td>P-value</td>\n",
       "      <td>0.1579</td>\n",
       "    </tr>\n",
       "    <tr>\n",
       "      <th>2</th>\n",
       "      <td>Degrees of freedom</td>\n",
       "      <td>216.0000</td>\n",
       "    </tr>\n",
       "  </tbody>\n",
       "</table>\n",
       "</div>"
      ],
      "text/plain": [
       "                 Test  Doornik_Hendry\n",
       "0      Test statistic        236.8189\n",
       "1             P-value          0.1579\n",
       "2  Degrees of freedom        216.0000"
      ]
     },
     "execution_count": 10,
     "metadata": {},
     "output_type": "execute_result"
    }
   ],
   "source": [
    "SVAR_DT.Multivariate_ARCH(residuals=residuals, lags_q=lags_q)"
   ]
  },
  {
   "cell_type": "code",
   "execution_count": 11,
   "metadata": {},
   "outputs": [
    {
     "data": {
      "text/html": [
       "<div>\n",
       "<style scoped>\n",
       "    .dataframe tbody tr th:only-of-type {\n",
       "        vertical-align: middle;\n",
       "    }\n",
       "\n",
       "    .dataframe tbody tr th {\n",
       "        vertical-align: top;\n",
       "    }\n",
       "\n",
       "    .dataframe thead th {\n",
       "        text-align: right;\n",
       "    }\n",
       "</style>\n",
       "<table border=\"1\" class=\"dataframe\">\n",
       "  <thead>\n",
       "    <tr style=\"text-align: right;\">\n",
       "      <th></th>\n",
       "      <th>Test</th>\n",
       "      <th>Doornik_Hansen</th>\n",
       "      <th>Lutkepohl</th>\n",
       "    </tr>\n",
       "  </thead>\n",
       "  <tbody>\n",
       "    <tr>\n",
       "      <th>0</th>\n",
       "      <td>Joint test statistic:</td>\n",
       "      <td>1602.5855</td>\n",
       "      <td>1395.0338</td>\n",
       "    </tr>\n",
       "    <tr>\n",
       "      <th>1</th>\n",
       "      <td>P-value</td>\n",
       "      <td>0.0000</td>\n",
       "      <td>0.0000</td>\n",
       "    </tr>\n",
       "    <tr>\n",
       "      <th>2</th>\n",
       "      <td>Degrees of freedom</td>\n",
       "      <td>6.0000</td>\n",
       "      <td>6.0000</td>\n",
       "    </tr>\n",
       "    <tr>\n",
       "      <th>3</th>\n",
       "      <td>Skewness only</td>\n",
       "      <td>200.2768</td>\n",
       "      <td>178.5062</td>\n",
       "    </tr>\n",
       "    <tr>\n",
       "      <th>4</th>\n",
       "      <td>P-value</td>\n",
       "      <td>0.0000</td>\n",
       "      <td>0.0000</td>\n",
       "    </tr>\n",
       "    <tr>\n",
       "      <th>5</th>\n",
       "      <td>Kurtosis only</td>\n",
       "      <td>1402.3086</td>\n",
       "      <td>1216.5276</td>\n",
       "    </tr>\n",
       "    <tr>\n",
       "      <th>6</th>\n",
       "      <td>P-value</td>\n",
       "      <td>0.0000</td>\n",
       "      <td>0.0000</td>\n",
       "    </tr>\n",
       "  </tbody>\n",
       "</table>\n",
       "</div>"
      ],
      "text/plain": [
       "                    Test  Doornik_Hansen  Lutkepohl\n",
       "0  Joint test statistic:       1602.5855  1395.0338\n",
       "1                P-value          0.0000     0.0000\n",
       "2     Degrees of freedom          6.0000     6.0000\n",
       "3          Skewness only        200.2768   178.5062\n",
       "4                P-value          0.0000     0.0000\n",
       "5          Kurtosis only       1402.3086  1216.5276\n",
       "6                P-value          0.0000     0.0000"
      ]
     },
     "execution_count": 11,
     "metadata": {},
     "output_type": "execute_result"
    }
   ],
   "source": [
    "SVAR_DT.Multivariate_Normality(residuals=residuals)"
   ]
  },
  {
   "cell_type": "code",
   "execution_count": 12,
   "metadata": {},
   "outputs": [
    {
     "data": {
      "text/html": [
       "<div>\n",
       "<style scoped>\n",
       "    .dataframe tbody tr th:only-of-type {\n",
       "        vertical-align: middle;\n",
       "    }\n",
       "\n",
       "    .dataframe tbody tr th {\n",
       "        vertical-align: top;\n",
       "    }\n",
       "\n",
       "    .dataframe thead th {\n",
       "        text-align: right;\n",
       "    }\n",
       "</style>\n",
       "<table border=\"1\" class=\"dataframe\">\n",
       "  <thead>\n",
       "    <tr style=\"text-align: right;\">\n",
       "      <th></th>\n",
       "      <th></th>\n",
       "      <th>Portmanteau</th>\n",
       "      <th>Modified Portmanteau</th>\n",
       "    </tr>\n",
       "  </thead>\n",
       "  <tbody>\n",
       "    <tr>\n",
       "      <th>0</th>\n",
       "      <td>Test Statistic</td>\n",
       "      <td>86.6810</td>\n",
       "      <td>88.8679</td>\n",
       "    </tr>\n",
       "    <tr>\n",
       "      <th>1</th>\n",
       "      <td>p-value</td>\n",
       "      <td>0.5795</td>\n",
       "      <td>0.5139</td>\n",
       "    </tr>\n",
       "    <tr>\n",
       "      <th>2</th>\n",
       "      <td>Degrees of Freedom</td>\n",
       "      <td>90.0000</td>\n",
       "      <td>90.0000</td>\n",
       "    </tr>\n",
       "  </tbody>\n",
       "</table>\n",
       "</div>"
      ],
      "text/plain": [
       "                       Portmanteau  Modified Portmanteau\n",
       "0      Test Statistic      86.6810               88.8679\n",
       "1             p-value       0.5795                0.5139\n",
       "2  Degrees of Freedom      90.0000               90.0000"
      ]
     },
     "execution_count": 12,
     "metadata": {},
     "output_type": "execute_result"
    }
   ],
   "source": [
    "SVAR_DT.Multivariate_Portmanteau(residuals=residuals, lag_h=lag_h, lags=p)"
   ]
  },
  {
   "cell_type": "code",
   "execution_count": 13,
   "metadata": {},
   "outputs": [
    {
     "data": {
      "text/html": [
       "<style type=\"text/css\">\n",
       "</style>\n",
       "<table id=\"T_258ea\">\n",
       "  <thead>\n",
       "    <tr>\n",
       "      <th id=\"T_258ea_level0_col0\" class=\"col_heading level0 col0\" ></th>\n",
       "      <th id=\"T_258ea_level0_col1\" class=\"col_heading level0 col1\" >Doornik Hendry</th>\n",
       "      <th id=\"T_258ea_level0_col2\" class=\"col_heading level0 col2\" >Doornik Hansen</th>\n",
       "      <th id=\"T_258ea_level0_col3\" class=\"col_heading level0 col3\" >Lutkepohl</th>\n",
       "      <th id=\"T_258ea_level0_col4\" class=\"col_heading level0 col4\" >Portmanteau</th>\n",
       "      <th id=\"T_258ea_level0_col5\" class=\"col_heading level0 col5\" >Portmanteau Modified</th>\n",
       "    </tr>\n",
       "  </thead>\n",
       "  <tbody>\n",
       "    <tr>\n",
       "      <td id=\"T_258ea_row0_col0\" class=\"data row0 col0\" >Joint test</td>\n",
       "      <td id=\"T_258ea_row0_col1\" class=\"data row0 col1\" >236.819</td>\n",
       "      <td id=\"T_258ea_row0_col2\" class=\"data row0 col2\" >1602.585***</td>\n",
       "      <td id=\"T_258ea_row0_col3\" class=\"data row0 col3\" >1395.034***</td>\n",
       "      <td id=\"T_258ea_row0_col4\" class=\"data row0 col4\" >86.681</td>\n",
       "      <td id=\"T_258ea_row0_col5\" class=\"data row0 col5\" >88.868</td>\n",
       "    </tr>\n",
       "    <tr>\n",
       "      <td id=\"T_258ea_row1_col0\" class=\"data row1 col0\" >Skewness test</td>\n",
       "      <td id=\"T_258ea_row1_col1\" class=\"data row1 col1\" ></td>\n",
       "      <td id=\"T_258ea_row1_col2\" class=\"data row1 col2\" >200.277***</td>\n",
       "      <td id=\"T_258ea_row1_col3\" class=\"data row1 col3\" >178.506***</td>\n",
       "      <td id=\"T_258ea_row1_col4\" class=\"data row1 col4\" ></td>\n",
       "      <td id=\"T_258ea_row1_col5\" class=\"data row1 col5\" ></td>\n",
       "    </tr>\n",
       "    <tr>\n",
       "      <td id=\"T_258ea_row2_col0\" class=\"data row2 col0\" >Kurtosis test</td>\n",
       "      <td id=\"T_258ea_row2_col1\" class=\"data row2 col1\" ></td>\n",
       "      <td id=\"T_258ea_row2_col2\" class=\"data row2 col2\" >1402.309***</td>\n",
       "      <td id=\"T_258ea_row2_col3\" class=\"data row2 col3\" >1216.528***</td>\n",
       "      <td id=\"T_258ea_row2_col4\" class=\"data row2 col4\" ></td>\n",
       "      <td id=\"T_258ea_row2_col5\" class=\"data row2 col5\" ></td>\n",
       "    </tr>\n",
       "  </tbody>\n",
       "</table>\n"
      ],
      "text/plain": [
       "<pandas.io.formats.style.Styler at 0x1795ed510>"
      ]
     },
     "execution_count": 13,
     "metadata": {},
     "output_type": "execute_result"
    }
   ],
   "source": [
    "SVAR_DT.Diagnostic_Table(residuals = residuals, \n",
    "                         Constant = Constant, \n",
    "                         lags_q = lags_q, \n",
    "                         lags_h = lag_h,\n",
    "                         Trend = Trend, \n",
    "                         lags = p,\n",
    "                         LaTeX = False)"
   ]
  },
  {
   "cell_type": "markdown",
   "metadata": {},
   "source": [
    "#### $$\\text{Univariate Tests for {\\small ARCH}, Normality, and Autocorrelation}$$"
   ]
  },
  {
   "cell_type": "code",
   "execution_count": 14,
   "metadata": {},
   "outputs": [
    {
     "name": "stdout",
     "output_type": "stream",
     "text": [
      "\n",
      "Univariate ARCH Test - Het_ARCH\n"
     ]
    },
    {
     "data": {
      "text/html": [
       "<div>\n",
       "<style scoped>\n",
       "    .dataframe tbody tr th:only-of-type {\n",
       "        vertical-align: middle;\n",
       "    }\n",
       "\n",
       "    .dataframe tbody tr th {\n",
       "        vertical-align: top;\n",
       "    }\n",
       "\n",
       "    .dataframe thead th {\n",
       "        text-align: right;\n",
       "    }\n",
       "</style>\n",
       "<table border=\"1\" class=\"dataframe\">\n",
       "  <thead>\n",
       "    <tr style=\"text-align: right;\">\n",
       "      <th></th>\n",
       "      <th>Hypothesis</th>\n",
       "      <th>P-Value</th>\n",
       "      <th>Test Statistic</th>\n",
       "      <th>Critical Value</th>\n",
       "    </tr>\n",
       "  </thead>\n",
       "  <tbody>\n",
       "    <tr>\n",
       "      <th>Real Money Balance</th>\n",
       "      <td>0.0000</td>\n",
       "      <td>0.9206</td>\n",
       "      <td>0.1655</td>\n",
       "      <td>5.9915</td>\n",
       "    </tr>\n",
       "    <tr>\n",
       "      <th>Real GDP</th>\n",
       "      <td>0.0000</td>\n",
       "      <td>0.4477</td>\n",
       "      <td>1.6074</td>\n",
       "      <td>5.9915</td>\n",
       "    </tr>\n",
       "    <tr>\n",
       "      <th>Interest Rate Spread</th>\n",
       "      <td>0.0000</td>\n",
       "      <td>0.4630</td>\n",
       "      <td>1.5400</td>\n",
       "      <td>5.9915</td>\n",
       "    </tr>\n",
       "  </tbody>\n",
       "</table>\n",
       "</div>"
      ],
      "text/plain": [
       "                      Hypothesis  P-Value  Test Statistic  Critical Value\n",
       "Real Money Balance        0.0000   0.9206          0.1655          5.9915\n",
       "Real GDP                  0.0000   0.4477          1.6074          5.9915\n",
       "Interest Rate Spread      0.0000   0.4630          1.5400          5.9915"
      ]
     },
     "metadata": {},
     "output_type": "display_data"
    },
    {
     "name": "stdout",
     "output_type": "stream",
     "text": [
      "\n",
      "Univariate Normality Test - Jarque_Bera\n"
     ]
    },
    {
     "data": {
      "text/html": [
       "<div>\n",
       "<style scoped>\n",
       "    .dataframe tbody tr th:only-of-type {\n",
       "        vertical-align: middle;\n",
       "    }\n",
       "\n",
       "    .dataframe tbody tr th {\n",
       "        vertical-align: top;\n",
       "    }\n",
       "\n",
       "    .dataframe thead th {\n",
       "        text-align: right;\n",
       "    }\n",
       "</style>\n",
       "<table border=\"1\" class=\"dataframe\">\n",
       "  <thead>\n",
       "    <tr style=\"text-align: right;\">\n",
       "      <th></th>\n",
       "      <th>Hypothesis</th>\n",
       "      <th>P-Value</th>\n",
       "      <th>Test Statistic</th>\n",
       "      <th>Critical Value</th>\n",
       "    </tr>\n",
       "  </thead>\n",
       "  <tbody>\n",
       "    <tr>\n",
       "      <th>Real Money Balance</th>\n",
       "      <td>1.0000</td>\n",
       "      <td>0.0000</td>\n",
       "      <td>731.7617</td>\n",
       "      <td>5.9915</td>\n",
       "    </tr>\n",
       "    <tr>\n",
       "      <th>Real GDP</th>\n",
       "      <td>1.0000</td>\n",
       "      <td>0.0000</td>\n",
       "      <td>21.6204</td>\n",
       "      <td>5.9915</td>\n",
       "    </tr>\n",
       "    <tr>\n",
       "      <th>Interest Rate Spread</th>\n",
       "      <td>1.0000</td>\n",
       "      <td>0.0000</td>\n",
       "      <td>942.2753</td>\n",
       "      <td>5.9915</td>\n",
       "    </tr>\n",
       "  </tbody>\n",
       "</table>\n",
       "</div>"
      ],
      "text/plain": [
       "                      Hypothesis  P-Value  Test Statistic  Critical Value\n",
       "Real Money Balance        1.0000   0.0000        731.7617          5.9915\n",
       "Real GDP                  1.0000   0.0000         21.6204          5.9915\n",
       "Interest Rate Spread      1.0000   0.0000        942.2753          5.9915"
      ]
     },
     "metadata": {},
     "output_type": "display_data"
    },
    {
     "name": "stdout",
     "output_type": "stream",
     "text": [
      "\n",
      "Univariate Autocorrelation Test - Ljung-Box\n"
     ]
    },
    {
     "data": {
      "text/html": [
       "<div>\n",
       "<style scoped>\n",
       "    .dataframe tbody tr th:only-of-type {\n",
       "        vertical-align: middle;\n",
       "    }\n",
       "\n",
       "    .dataframe tbody tr th {\n",
       "        vertical-align: top;\n",
       "    }\n",
       "\n",
       "    .dataframe thead th {\n",
       "        text-align: right;\n",
       "    }\n",
       "</style>\n",
       "<table border=\"1\" class=\"dataframe\">\n",
       "  <thead>\n",
       "    <tr style=\"text-align: right;\">\n",
       "      <th></th>\n",
       "      <th>Real Money Balance</th>\n",
       "      <th>Real GDP</th>\n",
       "      <th>Interest Rate Spread</th>\n",
       "    </tr>\n",
       "  </thead>\n",
       "  <tbody>\n",
       "    <tr>\n",
       "      <th>Lag 1</th>\n",
       "      <td>0.488</td>\n",
       "      <td>0.0123</td>\n",
       "      <td>0.0151</td>\n",
       "    </tr>\n",
       "    <tr>\n",
       "      <th>Lag 2</th>\n",
       "      <td>1.9231</td>\n",
       "      <td>0.3064</td>\n",
       "      <td>0.0522</td>\n",
       "    </tr>\n",
       "    <tr>\n",
       "      <th>Lag 3</th>\n",
       "      <td>3.7682</td>\n",
       "      <td>0.3705</td>\n",
       "      <td>0.7258</td>\n",
       "    </tr>\n",
       "    <tr>\n",
       "      <th>Lag 4</th>\n",
       "      <td>4.0771</td>\n",
       "      <td>0.413</td>\n",
       "      <td>0.7272</td>\n",
       "    </tr>\n",
       "    <tr>\n",
       "      <th>Lag 5</th>\n",
       "      <td>4.1431</td>\n",
       "      <td>0.625</td>\n",
       "      <td>0.8205</td>\n",
       "    </tr>\n",
       "    <tr>\n",
       "      <th>Lag 6</th>\n",
       "      <td>4.219</td>\n",
       "      <td>0.634</td>\n",
       "      <td>1.131</td>\n",
       "    </tr>\n",
       "    <tr>\n",
       "      <th>Lag 7</th>\n",
       "      <td>4.5225</td>\n",
       "      <td>2.3736</td>\n",
       "      <td>1.1311</td>\n",
       "    </tr>\n",
       "    <tr>\n",
       "      <th>Lag 8</th>\n",
       "      <td>4.7231</td>\n",
       "      <td>2.4162</td>\n",
       "      <td>4.3311</td>\n",
       "    </tr>\n",
       "    <tr>\n",
       "      <th>Lag 9</th>\n",
       "      <td>5.1506</td>\n",
       "      <td>7.0369</td>\n",
       "      <td>4.347</td>\n",
       "    </tr>\n",
       "    <tr>\n",
       "      <th>Lag 10</th>\n",
       "      <td>6.8904</td>\n",
       "      <td>7.3481</td>\n",
       "      <td>5.926</td>\n",
       "    </tr>\n",
       "    <tr>\n",
       "      <th>Lag 11</th>\n",
       "      <td>7.2664</td>\n",
       "      <td>10.4265</td>\n",
       "      <td>6.0308</td>\n",
       "    </tr>\n",
       "    <tr>\n",
       "      <th>Lag 12</th>\n",
       "      <td>7.2764</td>\n",
       "      <td>10.8574</td>\n",
       "      <td>6.0685</td>\n",
       "    </tr>\n",
       "  </tbody>\n",
       "</table>\n",
       "</div>"
      ],
      "text/plain": [
       "       Real Money Balance Real GDP Interest Rate Spread\n",
       "Lag 1               0.488   0.0123               0.0151\n",
       "Lag 2              1.9231   0.3064               0.0522\n",
       "Lag 3              3.7682   0.3705               0.7258\n",
       "Lag 4              4.0771    0.413               0.7272\n",
       "Lag 5              4.1431    0.625               0.8205\n",
       "Lag 6               4.219    0.634                1.131\n",
       "Lag 7              4.5225   2.3736               1.1311\n",
       "Lag 8              4.7231   2.4162               4.3311\n",
       "Lag 9              5.1506   7.0369                4.347\n",
       "Lag 10             6.8904   7.3481                5.926\n",
       "Lag 11             7.2664  10.4265               6.0308\n",
       "Lag 12             7.2764  10.8574               6.0685"
      ]
     },
     "metadata": {},
     "output_type": "display_data"
    }
   ],
   "source": [
    "print(\"\\nUnivariate ARCH Test - Het_ARCH\")\n",
    "display(SVAR_UDT.Univariate_ARCH_Test(residuals=residuals,lags=p))\n",
    "print(\"\\nUnivariate Normality Test - Jarque_Bera\")\n",
    "display(SVAR_UDT.Univariate_Normality_Test(residuals=residuals))\n",
    "print(\"\\nUnivariate Autocorrelation Test - Ljung-Box\")\n",
    "display(SVAR_UDT.Univariate_Autocorrelation_Test(residuals=residuals, lag_h=lag_h))\n",
    "\n",
    "SVAR_UDT.Combined_Univariate_LaTeX(residuals=residuals,lags=p,lag_h=lag_h, LaTeX=False)"
   ]
  },
  {
   "cell_type": "markdown",
   "metadata": {},
   "source": [
    "## $\\text{Q4}$\n",
    "For your preferred model, proceed by testing for cointegration using the MATLAB function jcitest. Explain your approach and how you proceed to find the numb er of cointegration vectors in the system, that is the rank $r$. Do you use different sources of information when determining the rank? If so, explain how you arrive at your decision."
   ]
  },
  {
   "cell_type": "code",
   "execution_count": 15,
   "metadata": {},
   "outputs": [
    {
     "data": {
      "text/html": [
       "<div>\n",
       "<style scoped>\n",
       "    .dataframe tbody tr th:only-of-type {\n",
       "        vertical-align: middle;\n",
       "    }\n",
       "\n",
       "    .dataframe tbody tr th {\n",
       "        vertical-align: top;\n",
       "    }\n",
       "\n",
       "    .dataframe thead th {\n",
       "        text-align: right;\n",
       "    }\n",
       "</style>\n",
       "<table border=\"1\" class=\"dataframe\">\n",
       "  <thead>\n",
       "    <tr style=\"text-align: right;\">\n",
       "      <th></th>\n",
       "      <th>1/H2/n</th>\n",
       "      <th>2/H1*/co</th>\n",
       "      <th>3/H1/ci</th>\n",
       "      <th>4/H*/cili</th>\n",
       "      <th>5/H/colo</th>\n",
       "    </tr>\n",
       "  </thead>\n",
       "  <tbody>\n",
       "    <tr>\n",
       "      <th>0</th>\n",
       "      <td>70.467*** (λ=0.1513)</td>\n",
       "      <td>78.018*** (λ=0.1603)</td>\n",
       "      <td>41.712*** (λ=0.103)</td>\n",
       "      <td>52.866*** (λ=0.1043)</td>\n",
       "      <td>47.728*** (λ=0.1019)</td>\n",
       "    </tr>\n",
       "    <tr>\n",
       "      <th>1</th>\n",
       "      <td>21.579*** (λ=0.0577)</td>\n",
       "      <td>25.968*** (λ=0.0597)</td>\n",
       "      <td>9.321 (λ=0.029)</td>\n",
       "      <td>20.041 (λ=0.0422)</td>\n",
       "      <td>15.696 (λ=0.0321)</td>\n",
       "    </tr>\n",
       "    <tr>\n",
       "      <th>2</th>\n",
       "      <td>3.873* (λ=0.0129)</td>\n",
       "      <td>7.611* (λ=0.0252)</td>\n",
       "      <td>0.541 (λ=0.0018)</td>\n",
       "      <td>7.193 (λ=0.0238)</td>\n",
       "      <td>5.987** (λ=0.0199)</td>\n",
       "    </tr>\n",
       "    <tr>\n",
       "      <th>Pantula</th>\n",
       "      <td>2</td>\n",
       "      <td>2</td>\n",
       "      <td>1</td>\n",
       "      <td>1</td>\n",
       "      <td>1</td>\n",
       "    </tr>\n",
       "  </tbody>\n",
       "</table>\n",
       "</div>"
      ],
      "text/plain": [
       "                       1/H2/n              2/H1*/co              3/H1/ci  \\\n",
       "0        70.467*** (λ=0.1513)  78.018*** (λ=0.1603)  41.712*** (λ=0.103)   \n",
       "1        21.579*** (λ=0.0577)  25.968*** (λ=0.0597)      9.321 (λ=0.029)   \n",
       "2           3.873* (λ=0.0129)     7.611* (λ=0.0252)     0.541 (λ=0.0018)   \n",
       "Pantula                     2                     2                    1   \n",
       "\n",
       "                    4/H*/cili              5/H/colo  \n",
       "0        52.866*** (λ=0.1043)  47.728*** (λ=0.1019)  \n",
       "1           20.041 (λ=0.0422)     15.696 (λ=0.0321)  \n",
       "2            7.193 (λ=0.0238)    5.987** (λ=0.0199)  \n",
       "Pantula                     1                     1  "
      ]
     },
     "metadata": {},
     "output_type": "display_data"
    },
    {
     "name": "stdout",
     "output_type": "stream",
     "text": [
      "Sample: 298. Lag length: VAR: p=2 and VEC: p=1. Test statistic with Eigenvalue\n",
      "in parentheses and the significance level as a superscript (10%, 5% and 1%).\n",
      "Pantula principle at a 5%\n"
     ]
    }
   ],
   "source": [
    "_ = SVAR_TC.Trace_Test(lags=p, p_value_threshold=0.05, LaTeX=False)"
   ]
  },
  {
   "cell_type": "code",
   "execution_count": 16,
   "metadata": {},
   "outputs": [
    {
     "name": "stdout",
     "output_type": "stream",
     "text": [
      "Model: 3  |  Model: H1 (\"ci\") [constant in coint vec and linear trend in levels] \n",
      "\n",
      "  Rank determined automatically using the Pantula principle\n",
      "     Rank: 0 LR: 41.712 p-value: 0.0018 ( *** ) and λ = 0.103\n",
      "     Rank: 1 LR: 9.321 p-value: 0.3838 (  ) and λ = 0.029\n",
      "\n",
      " \\begin{pmatrix}  7.12694 & -1.53345 & 60.83604 \\end{pmatrix} \n"
     ]
    }
   ],
   "source": [
    "cointegration_vectors, rank = SVAR_TC.Cointegration_Vectors(preferred_model=3, \n",
    "                                lags=p, p_value_threshold=0.05, \n",
    "                                normalise_on_element=None, \n",
    "                                rank=None,LaTeX=True)\n",
    "\n",
    "# Alternatively, for normalise_on_element use [1, 1, 1, 1] or [1,2,3,4],  \n",
    "# but if so the length must equal 1 or K"
   ]
  },
  {
   "cell_type": "markdown",
   "metadata": {},
   "source": [
    "## $\\text{Q5}$\n",
    "Discuss and argue for the preferred way to include deterministic comp onents in the model. Perform a test of the null hyp othesis that there is no linear trend in the cointegration vectors."
   ]
  },
  {
   "cell_type": "code",
   "execution_count": 17,
   "metadata": {},
   "outputs": [
    {
     "name": "stdout",
     "output_type": "stream",
     "text": [
      "The LR test statistic is 0.4331 with a p-value of 0.5105.\n",
      "We cannot reject the null that the trend in the cointegration \n",
      "vector is zero, suggesting we should include a constant but not\n",
      "a trend.\n",
      "\n",
      "   The freely estimated cointegration vector:\n"
     ]
    },
    {
     "data": {
      "text/latex": [
       "$\\displaystyle \\begin{equation}\\beta=\\begin{pmatrix} 7.12694 & -1.53345 & 60.83604 \\end{pmatrix}'\\end{equation}$"
      ],
      "text/plain": [
       "<IPython.core.display.Math object>"
      ]
     },
     "metadata": {},
     "output_type": "display_data"
    }
   ],
   "source": [
    "LRtest, pval, _, _, Brest, _, _, _, _ = \\\n",
    "    SVAR_TC.johcontest(r=rank, test=['bcon'], cons=SVAR_TC.zero_array(K+1)[K], model='H*', lags=float(p-1), alpha=0.05)\n",
    "\n",
    "threshold = 0.05\n",
    "\n",
    "decision = \"cannot reject\" if pval > threshold else \"reject\"\n",
    "conclusion = \"include a constant but not\\na trend\" if pval > threshold else \"include both a constant\\nand a trend\"\n",
    "\n",
    "print(f\"The LR test statistic is {LRtest:.4f} with a p-value of {pval:.4f}.\\n\"\n",
    "      f\"We {decision} the null that the trend in the cointegration \\n\"\n",
    "      f\"vector is zero, suggesting we should {conclusion}.\")\n",
    "\n",
    "print(\"\\n   The freely estimated cointegration vector:\")\n",
    "\n",
    "display(Math(r\"\\begin{equation}\\beta=\"+SVAR_IT.To_Matrix(Brest.T)+r\"'\\end{equation}\"))"
   ]
  },
  {
   "cell_type": "code",
   "execution_count": 18,
   "metadata": {},
   "outputs": [
    {
     "data": {
      "image/png": "[encoded data removed]",
      "text/plain": [
       "<Figure size 600x300 with 1 Axes>"
      ]
     },
     "metadata": {},
     "output_type": "display_data"
    }
   ],
   "source": [
    "coint1 = -1*np.dot(cointegration_vectors,np.array(y_clean_data).T)    \n",
    "fig, axs = plt.subplots(1, 1, figsize=(6, 3))\n",
    "SVAR_IT.setup_axis(axs, range(len(y_clean_data)), -coint1[0], f\"Estimated cointegration vector\", font_props, \"Teal\", mean_line=True,special_data_format=[False,10])\n",
    "plt.tight_layout()\n",
    "plt.show()"
   ]
  },
  {
   "cell_type": "markdown",
   "metadata": {},
   "source": [
    "## $\\text{Q6}$\n",
    "Impose your preferred rank and test hypotheses on the cointegration space using the MATLAB function jcontest. Start with tests for exclusion, stationarity and weak exogeneity. Explain the meanings of these tests."
   ]
  },
  {
   "cell_type": "code",
   "execution_count": 19,
   "metadata": {},
   "outputs": [
    {
     "name": "stdout",
     "output_type": "stream",
     "text": [
      "For rank = 1 and lags = 1\n"
     ]
    },
    {
     "data": {
      "text/html": [
       "<style type=\"text/css\">\n",
       "</style>\n",
       "<table id=\"T_bb204\">\n",
       "  <thead>\n",
       "    <tr>\n",
       "      <th id=\"T_bb204_level0_col0\" class=\"col_heading level0 col0\" ></th>\n",
       "      <th id=\"T_bb204_level0_col1\" class=\"col_heading level0 col1\" ></th>\n",
       "      <th id=\"T_bb204_level0_col2\" class=\"col_heading level0 col2\" >Stationarity</th>\n",
       "      <th id=\"T_bb204_level0_col3\" class=\"col_heading level0 col3\" ></th>\n",
       "      <th id=\"T_bb204_level0_col4\" class=\"col_heading level0 col4\" >Exclusion</th>\n",
       "      <th id=\"T_bb204_level0_col5\" class=\"col_heading level0 col5\" ></th>\n",
       "      <th id=\"T_bb204_level0_col6\" class=\"col_heading level0 col6\" >Weak Exogeneity</th>\n",
       "    </tr>\n",
       "  </thead>\n",
       "  <tbody>\n",
       "    <tr>\n",
       "      <td id=\"T_bb204_row0_col0\" class=\"data row0 col0\" >Real Money Balance</td>\n",
       "      <td id=\"T_bb204_row0_col1\" class=\"data row0 col1\" ></td>\n",
       "      <td id=\"T_bb204_row0_col2\" class=\"data row0 col2\" >24.188***</td>\n",
       "      <td id=\"T_bb204_row0_col3\" class=\"data row0 col3\" ></td>\n",
       "      <td id=\"T_bb204_row0_col4\" class=\"data row0 col4\" >11.812***</td>\n",
       "      <td id=\"T_bb204_row0_col5\" class=\"data row0 col5\" ></td>\n",
       "      <td id=\"T_bb204_row0_col6\" class=\"data row0 col6\" >0.002</td>\n",
       "    </tr>\n",
       "    <tr>\n",
       "      <td id=\"T_bb204_row1_col0\" class=\"data row1 col0\" >Real GDP</td>\n",
       "      <td id=\"T_bb204_row1_col1\" class=\"data row1 col1\" ></td>\n",
       "      <td id=\"T_bb204_row1_col2\" class=\"data row1 col2\" >28.827***</td>\n",
       "      <td id=\"T_bb204_row1_col3\" class=\"data row1 col3\" ></td>\n",
       "      <td id=\"T_bb204_row1_col4\" class=\"data row1 col4\" >2.171</td>\n",
       "      <td id=\"T_bb204_row1_col5\" class=\"data row1 col5\" ></td>\n",
       "      <td id=\"T_bb204_row1_col6\" class=\"data row1 col6\" >13.816***</td>\n",
       "    </tr>\n",
       "    <tr>\n",
       "      <td id=\"T_bb204_row2_col0\" class=\"data row2 col0\" >Interest Rate Spread</td>\n",
       "      <td id=\"T_bb204_row2_col1\" class=\"data row2 col1\" ></td>\n",
       "      <td id=\"T_bb204_row2_col2\" class=\"data row2 col2\" >21.754***</td>\n",
       "      <td id=\"T_bb204_row2_col3\" class=\"data row2 col3\" ></td>\n",
       "      <td id=\"T_bb204_row2_col4\" class=\"data row2 col4\" >23.483***</td>\n",
       "      <td id=\"T_bb204_row2_col5\" class=\"data row2 col5\" ></td>\n",
       "      <td id=\"T_bb204_row2_col6\" class=\"data row2 col6\" >14.107***</td>\n",
       "    </tr>\n",
       "  </tbody>\n",
       "</table>\n"
      ],
      "text/plain": [
       "<pandas.io.formats.style.Styler at 0x305ff33d0>"
      ]
     },
     "execution_count": 19,
     "metadata": {},
     "output_type": "execute_result"
    }
   ],
   "source": [
    "print(f\"For rank = {rank} and lags = {p-1}\")\n",
    "SVAR_TC.Stationary_Exclusion_Exogeneity(rank=float(rank), lags=p, LaTeX=False)\n",
    "\n",
    "# Long run time"
   ]
  },
  {
   "cell_type": "markdown",
   "metadata": {},
   "source": [
    "## $\\text{Q7}$\n",
    "Estimate the parameters in the cointegration vectors and interpret these in light of the money demand function ab ove. Do you find plausible values of the parameters in the cointegration vectors? Test null hypotheses using the MATLAB function jcontest. Explain how this test relates to the exclusion and stationarity tests."
   ]
  },
  {
   "cell_type": "code",
   "execution_count": 20,
   "metadata": {},
   "outputs": [
    {
     "name": "stdout",
     "output_type": "stream",
     "text": [
      "Model: 3  |  Model: H1 (\"ci\") [constant in coint vec and linear trend in levels] \n",
      "\n",
      "  Rank determined automatically using the Pantula principle\n",
      "     Rank: 0 LR: 41.712 p-value: 0.0018 ( *** ) and λ = 0.103\n",
      "     Rank: 1 LR: 9.321 p-value: 0.3838 (  ) and λ = 0.029\n",
      "\n",
      " \\begin{pmatrix}  1.00000 & -0.21516 & 8.53607 \\end{pmatrix} \n"
     ]
    },
    {
     "data": {
      "text/latex": [
       "$\\displaystyle \\begin{equation}\\beta=\\begin{pmatrix} 1.00000 & -0.21516 & 8.53607 \\end{pmatrix}'\\end{equation}$"
      ],
      "text/plain": [
       "<IPython.core.display.Math object>"
      ]
     },
     "metadata": {},
     "output_type": "display_data"
    }
   ],
   "source": [
    "cointegration_vectors, rank = SVAR_TC.Cointegration_Vectors(preferred_model=3, \n",
    "                                lags=p, p_value_threshold=0.05, \n",
    "                                normalise_on_element=[0], \n",
    "                                rank=None,LaTeX=True)\n",
    "\n",
    "display(Math(r\"\\begin{equation}\\beta=\"+SVAR_IT.To_Matrix(cointegration_vectors)+r\"'\\end{equation}\"))"
   ]
  },
  {
   "cell_type": "markdown",
   "metadata": {},
   "source": [
    "## $\\text{Q8}$\n",
    "Split the sample into two equal sized sub-samples and perform tests for exclusion, stationarity and weak exogeneity. Comment on the importance of the sample length for these tests"
   ]
  },
  {
   "cell_type": "code",
   "execution_count": 21,
   "metadata": {},
   "outputs": [
    {
     "name": "stdout",
     "output_type": "stream",
     "text": [
      "Model: 3  |  Model: H1 (\"ci\") [constant in coint vec and linear trend in levels] \n",
      "\n",
      "  Rank determined automatically using the Pantula principle\n",
      "     Rank: 0 LR: 36.446 p-value: 0.0078 ( *** ) and λ = 0.1211\n",
      "     Rank: 1 LR: 17.334 p-value: 0.0262 ( ** ) and λ = 0.1105\n",
      "     Rank: 2 LR: 0.001 p-value: 0.9701 (  ) and λ = 0.0\n",
      "\n",
      "For rank = 1 and lags = 1\n"
     ]
    },
    {
     "data": {
      "text/html": [
       "<style type=\"text/css\">\n",
       "</style>\n",
       "<table id=\"T_927eb\">\n",
       "  <thead>\n",
       "    <tr>\n",
       "      <th id=\"T_927eb_level0_col0\" class=\"col_heading level0 col0\" ></th>\n",
       "      <th id=\"T_927eb_level0_col1\" class=\"col_heading level0 col1\" ></th>\n",
       "      <th id=\"T_927eb_level0_col2\" class=\"col_heading level0 col2\" >Stationarity</th>\n",
       "      <th id=\"T_927eb_level0_col3\" class=\"col_heading level0 col3\" ></th>\n",
       "      <th id=\"T_927eb_level0_col4\" class=\"col_heading level0 col4\" >Exclusion</th>\n",
       "      <th id=\"T_927eb_level0_col5\" class=\"col_heading level0 col5\" ></th>\n",
       "      <th id=\"T_927eb_level0_col6\" class=\"col_heading level0 col6\" >Weak Exogeneity</th>\n",
       "    </tr>\n",
       "  </thead>\n",
       "  <tbody>\n",
       "    <tr>\n",
       "      <td id=\"T_927eb_row0_col0\" class=\"data row0 col0\" >Real Money Balance</td>\n",
       "      <td id=\"T_927eb_row0_col1\" class=\"data row0 col1\" ></td>\n",
       "      <td id=\"T_927eb_row0_col2\" class=\"data row0 col2\" >16.933***</td>\n",
       "      <td id=\"T_927eb_row0_col3\" class=\"data row0 col3\" ></td>\n",
       "      <td id=\"T_927eb_row0_col4\" class=\"data row0 col4\" >0.18</td>\n",
       "      <td id=\"T_927eb_row0_col5\" class=\"data row0 col5\" ></td>\n",
       "      <td id=\"T_927eb_row0_col6\" class=\"data row0 col6\" >0.843</td>\n",
       "    </tr>\n",
       "    <tr>\n",
       "      <td id=\"T_927eb_row1_col0\" class=\"data row1 col0\" >Real GDP</td>\n",
       "      <td id=\"T_927eb_row1_col1\" class=\"data row1 col1\" ></td>\n",
       "      <td id=\"T_927eb_row1_col2\" class=\"data row1 col2\" >18.13***</td>\n",
       "      <td id=\"T_927eb_row1_col3\" class=\"data row1 col3\" ></td>\n",
       "      <td id=\"T_927eb_row1_col4\" class=\"data row1 col4\" >0.997</td>\n",
       "      <td id=\"T_927eb_row1_col5\" class=\"data row1 col5\" ></td>\n",
       "      <td id=\"T_927eb_row1_col6\" class=\"data row1 col6\" >0.284</td>\n",
       "    </tr>\n",
       "    <tr>\n",
       "      <td id=\"T_927eb_row2_col0\" class=\"data row2 col0\" >Interest Rate Spread</td>\n",
       "      <td id=\"T_927eb_row2_col1\" class=\"data row2 col1\" ></td>\n",
       "      <td id=\"T_927eb_row2_col2\" class=\"data row2 col2\" >15.829***</td>\n",
       "      <td id=\"T_927eb_row2_col3\" class=\"data row2 col3\" ></td>\n",
       "      <td id=\"T_927eb_row2_col4\" class=\"data row2 col4\" >0.714</td>\n",
       "      <td id=\"T_927eb_row2_col5\" class=\"data row2 col5\" ></td>\n",
       "      <td id=\"T_927eb_row2_col6\" class=\"data row2 col6\" >1.728</td>\n",
       "    </tr>\n",
       "  </tbody>\n",
       "</table>\n"
      ],
      "text/plain": [
       "<pandas.io.formats.style.Styler at 0x305fd5f50>"
      ]
     },
     "metadata": {},
     "output_type": "display_data"
    },
    {
     "name": "stdout",
     "output_type": "stream",
     "text": [
      "The LR test statistic is 0.7517 with a p-value of 0.3859.\n",
      "We cannot reject the null that the trend in the cointegration \n",
      "vector is zero, suggesting we should include a constant but not\n",
      "a trend.\n",
      "\n",
      "   The freely estimated cointegration vector:\n"
     ]
    },
    {
     "data": {
      "text/latex": [
       "$\\displaystyle \\begin{equation}\\beta=\\begin{pmatrix} 6.82731 & 17.68664 & -38.41811 \\end{pmatrix}'\\end{equation}$"
      ],
      "text/plain": [
       "<IPython.core.display.Math object>"
      ]
     },
     "metadata": {},
     "output_type": "display_data"
    },
    {
     "name": "stdout",
     "output_type": "stream",
     "text": [
      "Model: 3  |  Model: H1 (\"ci\") [constant in coint vec and linear trend in levels] \n",
      "\n",
      "  Rank determined automatically using the Pantula principle\n",
      "\n",
      "The Johansen test indicates no cointegrating relationships (rank = 0)\n",
      "at the 5.00% significance level.\n",
      "\n",
      "For rank = 1 and lags = 1\n"
     ]
    },
    {
     "data": {
      "text/html": [
       "<style type=\"text/css\">\n",
       "</style>\n",
       "<table id=\"T_a2161\">\n",
       "  <thead>\n",
       "    <tr>\n",
       "      <th id=\"T_a2161_level0_col0\" class=\"col_heading level0 col0\" ></th>\n",
       "      <th id=\"T_a2161_level0_col1\" class=\"col_heading level0 col1\" ></th>\n",
       "      <th id=\"T_a2161_level0_col2\" class=\"col_heading level0 col2\" >Stationarity</th>\n",
       "      <th id=\"T_a2161_level0_col3\" class=\"col_heading level0 col3\" ></th>\n",
       "      <th id=\"T_a2161_level0_col4\" class=\"col_heading level0 col4\" >Exclusion</th>\n",
       "      <th id=\"T_a2161_level0_col5\" class=\"col_heading level0 col5\" ></th>\n",
       "      <th id=\"T_a2161_level0_col6\" class=\"col_heading level0 col6\" >Weak Exogeneity</th>\n",
       "    </tr>\n",
       "  </thead>\n",
       "  <tbody>\n",
       "    <tr>\n",
       "      <td id=\"T_a2161_row0_col0\" class=\"data row0 col0\" >Real Money Balance</td>\n",
       "      <td id=\"T_a2161_row0_col1\" class=\"data row0 col1\" ></td>\n",
       "      <td id=\"T_a2161_row0_col2\" class=\"data row0 col2\" >16.871***</td>\n",
       "      <td id=\"T_a2161_row0_col3\" class=\"data row0 col3\" ></td>\n",
       "      <td id=\"T_a2161_row0_col4\" class=\"data row0 col4\" >2.604</td>\n",
       "      <td id=\"T_a2161_row0_col5\" class=\"data row0 col5\" ></td>\n",
       "      <td id=\"T_a2161_row0_col6\" class=\"data row0 col6\" >1.407</td>\n",
       "    </tr>\n",
       "    <tr>\n",
       "      <td id=\"T_a2161_row1_col0\" class=\"data row1 col0\" >Real GDP</td>\n",
       "      <td id=\"T_a2161_row1_col1\" class=\"data row1 col1\" ></td>\n",
       "      <td id=\"T_a2161_row1_col2\" class=\"data row1 col2\" >22.298***</td>\n",
       "      <td id=\"T_a2161_row1_col3\" class=\"data row1 col3\" ></td>\n",
       "      <td id=\"T_a2161_row1_col4\" class=\"data row1 col4\" >3.793*</td>\n",
       "      <td id=\"T_a2161_row1_col5\" class=\"data row1 col5\" ></td>\n",
       "      <td id=\"T_a2161_row1_col6\" class=\"data row1 col6\" >11.293***</td>\n",
       "    </tr>\n",
       "    <tr>\n",
       "      <td id=\"T_a2161_row2_col0\" class=\"data row2 col0\" >Interest Rate Spread</td>\n",
       "      <td id=\"T_a2161_row2_col1\" class=\"data row2 col1\" ></td>\n",
       "      <td id=\"T_a2161_row2_col2\" class=\"data row2 col2\" >4.789*</td>\n",
       "      <td id=\"T_a2161_row2_col3\" class=\"data row2 col3\" ></td>\n",
       "      <td id=\"T_a2161_row2_col4\" class=\"data row2 col4\" >16.729***</td>\n",
       "      <td id=\"T_a2161_row2_col5\" class=\"data row2 col5\" ></td>\n",
       "      <td id=\"T_a2161_row2_col6\" class=\"data row2 col6\" >12.639***</td>\n",
       "    </tr>\n",
       "  </tbody>\n",
       "</table>\n"
      ],
      "text/plain": [
       "<pandas.io.formats.style.Styler at 0x305d5b0d0>"
      ]
     },
     "metadata": {},
     "output_type": "display_data"
    },
    {
     "name": "stdout",
     "output_type": "stream",
     "text": [
      "The LR test statistic is 0.8890 with a p-value of 0.3457.\n",
      "We cannot reject the null that the trend in the cointegration \n",
      "vector is zero, suggesting we should include a constant but not\n",
      "a trend.\n",
      "\n",
      "   The freely estimated cointegration vector:\n"
     ]
    },
    {
     "data": {
      "text/latex": [
       "$\\displaystyle \\begin{equation}\\beta=\\begin{pmatrix} -4.68671 & 2.51302 & -75.63925 \\end{pmatrix}'\\end{equation}$"
      ],
      "text/plain": [
       "<IPython.core.display.Math object>"
      ]
     },
     "metadata": {},
     "output_type": "display_data"
    }
   ],
   "source": [
    "y_clean_data_1 = y_clean_data.iloc[:len(y_clean_data)//2].copy().reset_index(drop=True)\n",
    "y_clean_data_2 = y_clean_data.iloc[len(y_clean_data)//2:].copy().reset_index(drop=True)\n",
    "\n",
    "for data in [y_clean_data_1, y_clean_data_2]:\n",
    "    from Structural_Vector_Autoregressive_Analysis import Testing_Cointegration as SVAR_TC_TEMP\n",
    "    SVAR_TC_TEMP = SVAR_TC_TEMP(Base_initialize, y_dataframe=data)\n",
    "    \n",
    "    _, _ = SVAR_TC_TEMP.Cointegration_Vectors(preferred_model=3, \n",
    "                                lags=p, p_value_threshold=0.05, \n",
    "                                normalise_on_element=None, \n",
    "                                rank=None,LaTeX=False)\n",
    "    print(f\"\\nFor rank = {rank} and lags = {p-1}\")\n",
    "    \n",
    "    display(SVAR_TC_TEMP.Stationary_Exclusion_Exogeneity(rank=float(rank), lags=p, LaTeX=False))\n",
    "    \n",
    "    LRtest, pval, _, Arest, Brest, _, _, _, _ = \\\n",
    "    SVAR_TC_TEMP.johcontest(r=rank, test=['bcon'], cons=SVAR_TC_TEMP.zero_array(K+1)[K], model='H*', lags=float(p-1), alpha=0.05)\n",
    "\n",
    "    decision = \"cannot reject\" if pval > threshold else \"reject\"\n",
    "    conclusion = \"include a constant but not\\na trend\" if pval > threshold else \"include both a constant\\nand a trend\"\n",
    "\n",
    "    print(f\"The LR test statistic is {LRtest:.4f} with a p-value of {pval:.4f}.\\n\"\n",
    "        f\"We {decision} the null that the trend in the cointegration \\n\"\n",
    "        f\"vector is zero, suggesting we should {conclusion}.\")\n",
    "\n",
    "    print(\"\\n   The freely estimated cointegration vector:\")\n",
    "\n",
    "    display(Math(r\"\\begin{equation}\\beta=\"+SVAR_IT.To_Matrix(Brest.T)+r\"'\\end{equation}\"))"
   ]
  },
  {
   "cell_type": "markdown",
   "metadata": {},
   "source": [
    "## $\\text{Q9}$\n",
    "Impose $r=1$ and and re-estimate the VEC model using the full sample and using your preferred lag length found above. Comment on the driving forces of the data in this model"
   ]
  },
  {
   "cell_type": "code",
   "execution_count": 22,
   "metadata": {},
   "outputs": [
    {
     "name": "stdout",
     "output_type": "stream",
     "text": [
      "The LR test statistic is 27.0986 with a p-value of 0.0000. This\n",
      "suggests that we reject the null that the cointegration\n",
      "relationship do not exist in the cointegration space\n",
      "\n",
      "   The cointegration vector:\n"
     ]
    },
    {
     "data": {
      "text/latex": [
       "$\\displaystyle \\begin{equation}\\beta=\\begin{pmatrix} -0.21516 & 1.00000 & 8.53607 \\end{pmatrix}'\\end{equation}$"
      ],
      "text/plain": [
       "<IPython.core.display.Math object>"
      ]
     },
     "metadata": {},
     "output_type": "display_data"
    }
   ],
   "source": [
    "Beta_theory = np.array([[cointegration_vectors[0][1],cointegration_vectors[0][0],  cointegration_vectors[0][2]]])\n",
    "LRtest, pval, _, _, Brest, _, _, _, _ = \\\n",
    "    SVAR_TC.johcontest(r=rank, test=['bvec'], cons=Beta_theory.T, model='H1', lags=float(p-1), alpha=0.05)\n",
    "\n",
    "threshold = 0.05\n",
    "\n",
    "decision = \"cannot reject\" if pval > threshold else \"reject\"\n",
    "conclusion = \"do\" if pval > threshold else \"do not\"\n",
    "plural = \"relationships\" if int(rank) > 1 else \"relationship\"\n",
    "\n",
    "print(f\"The LR test statistic is {LRtest:.4f} with a p-value of {pval:.4f}. This\\n\"\n",
    "      f\"suggests that we {decision} the null that the cointegration\\n\"\n",
    "      f\"{plural} {conclusion} exist in the cointegration space\")\n",
    "\n",
    "print(\"\\n   The cointegration vector:\")\n",
    "\n",
    "display(Math(r\"\\begin{equation}\\beta=\"+SVAR_IT.To_Matrix(Brest.T)+r\"'\\end{equation}\"))"
   ]
  },
  {
   "cell_type": "code",
   "execution_count": 23,
   "metadata": {},
   "outputs": [
    {
     "name": "stdout",
     "output_type": "stream",
     "text": [
      "0: Dates: 1979-2003 (Monthly)\n",
      "1: Real Money Balance ($\\ln(M_t/P_t)$)\n",
      "2: Real GDP ($\\ln(Y_t)$)\n",
      "3: Interest Rate Spread ($R$)\n"
     ]
    }
   ],
   "source": [
    "for i, val in enumerate(list_of_info):\n",
    "    print(f\"{i}: {val}\" + (f\" ({list_of_info_latex[i-1]})\" if i > 0 else \"\"))"
   ]
  },
  {
   "cell_type": "code",
   "execution_count": 24,
   "metadata": {},
   "outputs": [
    {
     "name": "stdout",
     "output_type": "stream",
     "text": [
      "The estimated VAR model may be unstable due to largest absolute eigenvalue is greater than or equal to 1. \n",
      "Review the model specification for potential adjustments.\n",
      "Max Eigenvalue = 1.001\n",
      "\n",
      "\n",
      "Linear Combinations\n",
      "  None\n"
     ]
    }
   ],
   "source": [
    "horizon = 100\n",
    "from Structural_Vector_Autoregressive_Analysis import Identification_Restrictions_Cointegrated_SVAR as SVAR_IRC\n",
    "SVAR_IRC = SVAR_IRC(Base_initialize,y_dataframe=y_clean_data, horizon = horizon, lags=p, Constant=Constant, Trend=Trend, Exogenous=None)\n",
    "rank = 1\n",
    "\n",
    "linear_combinations = None # {\"Real Interest\": [f\"{list_of_info[2]} - {list_of_info[3]}\"],\n",
    "#                        \"Monetary Base\": [f\"{list_of_info[4]} - {list_of_info[3]}\"]\n",
    "#                        }\n",
    "\n",
    "print(\"\\nLinear Combinations\")\n",
    "if not linear_combinations:\n",
    "    linear_combinations = None\n",
    "    print(\"  None\")\n",
    "else:\n",
    "    for name, expressions in linear_combinations.items():\n",
    "        for expr in expressions:\n",
    "            print(f\"  {name} = {expr}\")"
   ]
  },
  {
   "cell_type": "code",
   "execution_count": 25,
   "metadata": {},
   "outputs": [
    {
     "name": "stdout",
     "output_type": "stream",
     "text": [
      "Least Squares:\n",
      "Alpha estimates:\n",
      " [[0.0034 0.0003 -0.0012]] \n",
      "\n",
      "Alpha t-ratios: \n",
      " [[1.4963 0.7246 -1.7895]]\n",
      "\n",
      "Maximum Likelihood \n",
      "Alpha estimates: \n",
      " [[0.0034 0.0003 -0.0012]]\n",
      "\n",
      "Equivalent: ~ True\n"
     ]
    }
   ],
   "source": [
    "beta = SVAR_TC.Initilize_beta_vecm(lags=p,model=3, beta_theory=Beta_theory.T, rank=int(rank)).T\n",
    "Beta, Betavec, SEBeta, tratioBeta, res, so, so_ml = SVAR_TC.LSKnownBeta(lags=p, beta=beta, model= 3)\n",
    "Beta = Beta.T\n",
    "tratioBeta = tratioBeta.T\n",
    "\n",
    "GAMMA = Beta[:,0:K*(p-1)]       # first diff lags\n",
    "alpha = Aest = Beta[:,K*(p-1):len(Beta.T)-1]   # speed of adjustment\n",
    "\n",
    "tratioBeta_re = tratioBeta.reshape(-1, Beta.shape[1])\n",
    "alpha_tratio = tratioBeta_re[:,K*(p-1):len(tratioBeta_re.T)-1]\n",
    "\n",
    "print(\"Least Squares:\")\n",
    "print(\"Alpha estimates:\\n\",alpha.T,\"\\n\")\n",
    "print(\"Alpha t-ratios: \\n\",alpha_tratio.T)\n",
    "\n",
    "alpha, Gamma, SigmaML, u = SVAR_IRC.VECMknown(beta=Beta_theory.T)\n",
    "\n",
    "print(\"\\nMaximum Likelihood \")\n",
    "print(\"Alpha estimates: \\n\",alpha.T)\n",
    "\n",
    "print(\"\\nEquivalent: ~\",np.allclose((alpha - Beta[:,K*(p-1):len(Beta.T)-1]),0))"
   ]
  },
  {
   "cell_type": "markdown",
   "metadata": {},
   "source": [
    "## $\\text{Q10}$\n",
    "\n",
    "Suggest identification schemes including names of the three structural sho cks in the VAR/VEC system using first a Cholesky decomp osition and second long-run identification. If you cannot provide names for these sho cks, try to explain how they affect the data under the maintained assumptions"
   ]
  },
  {
   "cell_type": "code",
   "execution_count": 26,
   "metadata": {},
   "outputs": [
    {
     "name": "stdout",
     "output_type": "stream",
     "text": [
      "Since the rank r = 1, there are 1 transitory/temporary shocks.\n",
      "Thus, there are K-r = 2 permanent shocks.\n",
      "\n",
      "    To identify the permanent shocks, we need (K-r)(K-r-1)/2 = 1 restrictions. (Upsilon)\n",
      "    To identify the transitory shocks, we need r(r-1)/2 = 0 restrictions. (B^{-1}_0)\n"
     ]
    }
   ],
   "source": [
    "SVAR_TC.Identication_Scheme(rank)"
   ]
  },
  {
   "cell_type": "code",
   "execution_count": 27,
   "metadata": {},
   "outputs": [],
   "source": [
    "B_R = \"\"\"[ * * * \n",
    "           * * * \n",
    "           * * * ]\"\"\"\n",
    "\n",
    "U_R = \"\"\"[ * * 0 \n",
    "           0 * 0 \n",
    "           * * 0 ]\"\"\""
   ]
  },
  {
   "cell_type": "markdown",
   "metadata": {},
   "source": [
    "## $\\text{Q11}$\n",
    "\n",
    "Write down the reduced form and structural form Common Trends model consistent with the VEC model. Show how these two representations are related"
   ]
  },
  {
   "cell_type": "markdown",
   "metadata": {},
   "source": [
    "## $\\text{Q12}$\n",
    "What is the consequence for the long-run multiplier if we assume that the long-run money demand function is a cointegration vector?"
   ]
  },
  {
   "cell_type": "markdown",
   "metadata": {},
   "source": [
    "## $\\text{Q13}$\n",
    "Outline how the MATLAB solver can be used to imp ose long-run restrictions"
   ]
  },
  {
   "cell_type": "markdown",
   "metadata": {},
   "source": [
    "```py\n",
    "Xi, SIGMA, _ = SVAR_IRC.Implement_identication(model = 3, rank=rank, beta = Beta_theory.T,ML=True)\n",
    "\n",
    "invB0 = least_squares(lambda B0inv_flat: SVAR_IRC.Restrictions(B0inv_flat, B0inv_R=B_R, Upsilon_R=U_R, Xi=Xi, SIGMA=SIGMA,Beta=Beta_theory),\n",
    "                        np.random.randn(K * K))#, xtol=1e-1000000, gtol=1e-1000000, max_nfev=30000)\n",
    "\n",
    "B0inv = invB0.x.reshape((K, K))\n",
    "B0inv[:, B0inv.diagonal() < 0] *= -1\n",
    "\n",
    "print(\"B_0^{-1}(B_0^{-1})'-\\Sigma = 0        \",np.allclose((B0inv @ B0inv.T - SIGMA), 0))\n",
    "print(\"\\\\beta'\\\\Upsilon = 0                    \",np.allclose((Beta_theory @ Xi @ B0inv), 0))\n",
    "print(\"(B_0^{-1} \\Sigma @ B_0^{-1})' = I_K   \",np.allclose((np.linalg.inv(B0inv) @ SIGMA @ np.linalg.inv(B0inv).T), np.eye(K)))\n",
    "Upsilon_solve = Xi @ B0inv\n",
    "B0inv_solve = B0inv\n",
    "\n",
    "print(\"\\nB^{-1}_0 =\\n\",SVAR_IT.To_Matrix(B0inv,short=False))\n",
    "print(\"\\n\\\\Upsilon =\\n\",SVAR_IT.To_Matrix(Xi @ B0inv,short=False))\n",
    "```"
   ]
  },
  {
   "cell_type": "markdown",
   "metadata": {},
   "source": [
    "## $\\text{Q14}$\n",
    "Estimate a VAR model (using your preferred number of lags found previously) with all variables in log-levels and use this model together with a Cholesky decomp osition to compute impulse response functions. Discuss and explain how you order the time series vector, i.e., explain and motivate the identifying restrictions you use. Show the impulse responses in a graph and interpret your results. Comment on the price puzzle. Is it still there in the model or not? If not, try to provide an explanation. No confidence bands are required\n",
    "\n",
    "$$\\Huge\\textcolor{red}{\\text{The content below this point may be incorrect}}$$\n"
   ]
  },
  {
   "cell_type": "code",
   "execution_count": 28,
   "metadata": {},
   "outputs": [
    {
     "name": "stdout",
     "output_type": "stream",
     "text": [
      "The estimated VAR model is stable. The largest absolute eigenvalue is: 0.9639\n"
     ]
    },
    {
     "data": {
      "image/png": "[encoded data removed]",
      "text/plain": [
       "<Figure size 1500x300 with 3 Axes>"
      ]
     },
     "metadata": {},
     "output_type": "display_data"
    }
   ],
   "source": [
    "from Structural_Vector_Autoregressive_Analysis import Identification_Restrictions_Cointegrated_SVAR as SVAR_IRC_trend\n",
    "SVAR_IRC_trend = SVAR_IRC_trend(Base_initialize,y_dataframe=y_clean_data, horizon = horizon, lags=p, Constant=Constant, Trend=True, Exogenous=None)\n",
    "\n",
    "irf_trend = SVAR_IRC_trend.IRF(B0inv=None,VEC=False,VAR=True)\n",
    "IRF_result = SVAR_IRC_trend.IRF_estimation(IRF_var=irf_trend, list_of_info=list_of_info, normalise=None)#list_of_info[3]) # None)\n",
    "\n",
    "fig, axs = plt.subplots(1, 3, figsize=(15, 3))\n",
    "SVAR_IT.setup_axis(axs[0], range(horizon+1), IRF_result[list_of_info[2]][list_of_info[3]],  f\"{list_of_info[3]} $\\\\longrightarrow$ {list_of_info[2]}\", font_props, \"teal\", mean_line=False,special_data_format=[False,10],at_zero=True)# y_axis=[0.01,-0.01])\n",
    "SVAR_IT.setup_axis(axs[1], range(horizon+1), IRF_result[list_of_info[1]][list_of_info[3]],  f\"{list_of_info[3]} $\\\\longrightarrow$ {list_of_info[1]}\", font_props, \"teal\", mean_line=False,special_data_format=[False,10],at_zero=True)# y_axis=[0.01,-0.01])\n",
    "SVAR_IT.setup_axis(axs[2], range(horizon+1), IRF_result[list_of_info[3]][list_of_info[3]],  f\"{list_of_info[3]} $\\\\longrightarrow$ {list_of_info[3]}\", font_props, \"teal\", mean_line=False,special_data_format=[False,10],at_zero=True)# y_axis=[0.01,-0.01])\n",
    "plt.tight_layout()\n",
    "plt.show()"
   ]
  },
  {
   "cell_type": "markdown",
   "metadata": {},
   "source": [
    "## $\\text{Q15}$\n",
    "Instead of using a standard VAR and recursive identification we can identify the model using a combination of short-run and long-run identifying restrictions. Use the MATLAB solver to identify the structural VEC model estimated previously. Check that the solver provides a valid identification and compute the variance-covariance matrix of the identified structural shocks. Please, provide the MATLAB co de you are using to identify the sho cks in the app endix. It must include a description of the null restrictions you impose"
   ]
  },
  {
   "cell_type": "code",
   "execution_count": 29,
   "metadata": {},
   "outputs": [
    {
     "name": "stdout",
     "output_type": "stream",
     "text": [
      "B_0^{-1}(B_0^{-1})'-\\Sigma = 0         True\n",
      "\\beta'\\Upsilon = 0                     True\n",
      "(B_0^{-1} \\Sigma @ B_0^{-1})' = I_K    True\n",
      "\n",
      "B^{-1}_0 =\n",
      " \\begin{pmatrix}\n",
      "0.01566 & -0.00478 & -0.01387 \\\\\n",
      "-0.00029 & 0.00370 & -0.00122 \\\\\n",
      "0.00289 & 0.00259 & 0.00473 \\\\\n",
      "\\end{pmatrix}\n",
      "\n",
      "\\Upsilon =\n",
      " \\begin{pmatrix}\n",
      "0.02585 & 0.01097 & -0.00000 \\\\\n",
      "-0.00000 & 0.00836 & 0.00000 \\\\\n",
      "0.00065 & -0.00070 & 0.00000 \\\\\n",
      "\\end{pmatrix}\n"
     ]
    }
   ],
   "source": [
    "Xi, SIGMA, _ = SVAR_IRC.Implement_identication(model = 3, rank=rank, beta = Beta_theory.T,ML=True)\n",
    "\n",
    "invB0 = least_squares(lambda B0inv_flat: SVAR_IRC.Restrictions(B0inv_flat, B0inv_R=B_R, Upsilon_R=U_R, Xi=Xi, SIGMA=SIGMA,Beta=Beta_theory),\n",
    "                        np.random.randn(K * K))#, xtol=1e-1000000, gtol=1e-1000000, max_nfev=30000)\n",
    "\n",
    "B0inv = invB0.x.reshape((K, K))\n",
    "B0inv[:, B0inv.diagonal() < 0] *= -1\n",
    "\n",
    "print(\"B_0^{-1}(B_0^{-1})'-\\Sigma = 0        \",np.allclose((B0inv @ B0inv.T - SIGMA), 0))\n",
    "print(\"\\\\beta'\\\\Upsilon = 0                    \",np.allclose((Beta_theory @ Xi @ B0inv), 0))\n",
    "print(\"(B_0^{-1} \\Sigma @ B_0^{-1})' = I_K   \",np.allclose((np.linalg.inv(B0inv) @ SIGMA @ np.linalg.inv(B0inv).T), np.eye(K)))\n",
    "Upsilon_solve = Xi @ B0inv\n",
    "B0inv_solve = B0inv\n",
    "\n",
    "print(\"\\nB^{-1}_0 =\\n\",SVAR_IT.To_Matrix(B0inv,short=False))\n",
    "print(\"\\n\\\\Upsilon =\\n\",SVAR_IT.To_Matrix(Xi @ B0inv,short=False))"
   ]
  },
  {
   "cell_type": "markdown",
   "metadata": {},
   "source": [
    "## $\\text{Q16}$\n",
    "\n",
    "Estimate the structural VAR model and compute impulse resp onse functions (with bootstrap confidence bands using the delta method, i.e., the standard residual based recursive design bootstrap with intervals based on bootstrap standard errors) and variance decompositions (with bootstrap standard errors using Efron's percentile intervals). You can show forecast error variance decompositions in either a table or in a graph. Interpret your results"
   ]
  },
  {
   "cell_type": "code",
   "execution_count": 30,
   "metadata": {},
   "outputs": [
    {
     "name": "stdout",
     "output_type": "stream",
     "text": [
      "Trial: 500 of 1278  |  Failures due to solver: 0 | Failures due to unstable eigenvalue: 778\n",
      "Bootstrap based on: 500 trials\n",
      "Bootstrap type in use: non parametric\n",
      "Unstable replications: 778\n"
     ]
    }
   ],
   "source": [
    "IRFmat, VCmat = SVAR_IRC_trend.VAR_Bootstrap(n_trials=500, Bootstrap = True, Bootstrap_type = \"De lta\", \n",
    "                                       Orthogonal = True , B0inv_R=B_R, Upsilon_R=U_R, \n",
    "                                       initial_guess=B0inv)\n",
    "\n",
    "irf_trend = SVAR_IRC_trend.IRF(B0inv=B0inv,VEC=False,VAR=True)"
   ]
  },
  {
   "cell_type": "code",
   "execution_count": 31,
   "metadata": {},
   "outputs": [
    {
     "name": "stdout",
     "output_type": "stream",
     "text": [
      "Impulse Response Function\n",
      "Bootstrap (Wild) Confidence Intervals (Delta)\n"
     ]
    },
    {
     "data": {
      "image/png": "[encoded data removed]",
      "text/plain": [
       "<Figure size 1500x250 with 3 Axes>"
      ]
     },
     "metadata": {},
     "output_type": "display_data"
    }
   ],
   "source": [
    "SVAR_IRC.IRF_Combined_Plots(\n",
    "    linear_combinations = None, # None or linear_combinations\n",
    "    Bootstrap_Matrix = IRFmat,\n",
    "    confidence_type = \"Delta\",  # or \"Efron\" can be extended.\n",
    "    responses = [1,2,3],      # None = All = [1,2,...,K] and can be any combination e.g [3,1]\n",
    "    shocks = [3],         # None = All = [1,2,...,K] and can be any combination e.g [2]\n",
    "    z_values = [95],            # mulitple e.g. z_values=[95,68]\n",
    "    Baseline = abs(irf_trend),             \n",
    "    Info=\"Wild\",                # VEC_Bootstrap() setting\n",
    "    )"
   ]
  },
  {
   "cell_type": "markdown",
   "metadata": {},
   "source": [
    "## $\\text{Q17}$\n",
    "\n",
    "Show a plot of the accumulated permanent shock(s) and the three variables. Discuss the results. Is it possible to draw conclusions regarding the driving forces of the variables?\n"
   ]
  },
  {
   "cell_type": "code",
   "execution_count": 32,
   "metadata": {},
   "outputs": [
    {
     "name": "stdout",
     "output_type": "stream",
     "text": [
      "The estimated VAR model may be unstable due to largest absolute eigenvalue is greater than or equal to 1. \n",
      "Review the model specification for potential adjustments.\n",
      "Max Eigenvalue = 1.001\n",
      "\n"
     ]
    }
   ],
   "source": [
    "horizon = 100\n",
    "from Structural_Vector_Autoregressive_Analysis import Identification_Restrictions_Cointegrated_SVAR as SVAR_IRC\n",
    "SVAR_IRC = SVAR_IRC(Base_initialize, y_dataframe=y_clean_data, horizon=horizon,\n",
    "                     lags=2, Constant=True, Trend=False)"
   ]
  },
  {
   "cell_type": "code",
   "execution_count": 33,
   "metadata": {},
   "outputs": [
    {
     "data": {
      "image/png": "[encoded data removed]",
      "text/plain": [
       "<Figure size 1200x800 with 3 Axes>"
      ]
     },
     "metadata": {},
     "output_type": "display_data"
    }
   ],
   "source": [
    "cumulative_sum_1 = -(Xi @ u)[0].cumsum()\n",
    "cumulative_sum_0 = (Xi  @ u)[1].cumsum()\n",
    "cumulative_sum_2 = (Xi  @ u)[2].cumsum()\n",
    "\n",
    "plt.figure(figsize=(12, 8))\n",
    "plt.subplot(3, 1, 1)\n",
    "plt.plot(cumulative_sum_0, color=\"blue\")\n",
    "plt.title(\"Kolonne 0\")\n",
    "plt.xlabel(\"Index\")\n",
    "plt.ylabel(\"Kumulativ værdi\")\n",
    "plt.grid(False)\n",
    "plt.subplot(3, 1, 2)\n",
    "plt.plot(cumulative_sum_1, color=\"orange\")\n",
    "plt.title(\"Kolonne 1\")\n",
    "plt.xlabel(\"Index\")\n",
    "plt.ylabel(\"Kumulativ værdi\")\n",
    "plt.grid(False)\n",
    "plt.subplot(3, 1, 3)\n",
    "plt.plot(cumulative_sum_2, color=\"green\")\n",
    "plt.title(\"Kolonne 2\")\n",
    "plt.xlabel(\"Index\")\n",
    "plt.ylabel(\"Kumulativ værdi\")\n",
    "plt.grid(False)"
   ]
  },
  {
   "cell_type": "markdown",
   "metadata": {},
   "source": [
    "## $\\text{Q18}$\n",
    "An alternative to using the MATLAB solver to compute the $B^{-1}_0$ matrix is to use the approach suggested by Warne (1993). Outline this approach and show how the Warne approach can b e used to identify the structural sho cks in your preferred VEC model. Discuss b oth the identification of permanent and transitory shocks\n"
   ]
  },
  {
   "cell_type": "code",
   "execution_count": 34,
   "metadata": {},
   "outputs": [],
   "source": [
    "Beta_theory = np.array([[cointegration_vectors[0][1],cointegration_vectors[0][0],  cointegration_vectors[0][2]]])\n",
    "Xi, SIGMA, _ = SVAR_IRC.Implement_identication(model = 3, rank=1.0, beta = Beta_theory.T, ML=True)"
   ]
  },
  {
   "cell_type": "code",
   "execution_count": 35,
   "metadata": {},
   "outputs": [
    {
     "data": {
      "text/latex": [
       "$\\displaystyle \\begin{equation} \\underset{(1,1)}{\\underset{(1, 3)}{\\beta'} \\underset{(3, 1)}{\\Upsilon_0}} = \\begin{pmatrix}\\beta_1 & \\beta_2 & \\beta_3\\end{pmatrix}\\begin{pmatrix}\\Upsilon_{11}^0 & \\Upsilon_{21}^0\\\\ \\Upsilon_{12}^0 & \\Upsilon_{22}^0\\\\ \\Upsilon_{13}^0 & \\Upsilon_{23}^0\\end{pmatrix}=\\begin{pmatrix}\\Upsilon_{11}^0\\cdot\\beta_1 + \\Upsilon_{12}^0\\cdot\\beta_2 + \\Upsilon_{13}^0\\cdot\\beta_3 & \\Upsilon_{21}^0\\cdot\\beta_1 + \\Upsilon_{22}^0\\cdot\\beta_2 + \\Upsilon_{23}^0\\cdot\\beta_3\\end{pmatrix}\\end{equation}$"
      ],
      "text/plain": [
       "<IPython.core.display.Math object>"
      ]
     },
     "metadata": {},
     "output_type": "display_data"
    }
   ],
   "source": [
    "from sympy import symbols\n",
    "rank = 1.0\n",
    "# Definer symboler og matrixer\n",
    "Beta_theory_latex = Matrix([[symbols(r'\\beta_1'),symbols(r'\\beta_2'),symbols(r'\\beta_3')]])\n",
    "Upsilon0_latex = Matrix([[symbols(f\"\\\\Upsilon_{{{i+1}{j+1}}}^0\") for j in range(int(K))] for i in range(int(K-rank))])\n",
    "result = Beta_theory_latex * Upsilon0_latex.T\n",
    "def matrix_to_latex(matrix):\n",
    "    return r\"\\begin{pmatrix}\" + r\"\\\\ \".join([\" & \".join(map(str, row)) for row in matrix.tolist()]) + r\"\\end{pmatrix}\"\n",
    "latex_expr = (fr\"\\begin{{equation}} \\underset{{({Beta_theory_latex.shape[0]},{int(rank)})}}{{\\underset{{{Beta_theory_latex.shape}}}{{\\beta'}} \\underset{{({int(K)}, {int(rank)})}}{{\\Upsilon_0}}}} = \" + matrix_to_latex(Beta_theory_latex) + matrix_to_latex(Upsilon0_latex.T) + \"=\" + matrix_to_latex(result) +r\"\\end{equation}\").replace(\"*\", \"\\\\cdot\")\n",
    "display(Math(latex_expr))"
   ]
  },
  {
   "cell_type": "code",
   "execution_count": 36,
   "metadata": {},
   "outputs": [
    {
     "data": {
      "text/plain": [
       "array([[0.0000, 0.0000]])"
      ]
     },
     "execution_count": 36,
     "metadata": {},
     "output_type": "execute_result"
    }
   ],
   "source": [
    "Upsilon0 = np.array([[-1, 0, Beta_theory[0][0]/Beta_theory[0][2]],\n",
    "                     [0, 1, -1/Beta_theory[0][2]]]).T\n",
    "Beta_theory @ Upsilon0"
   ]
  },
  {
   "cell_type": "markdown",
   "metadata": {},
   "source": [
    "## $\\text{Q19}$\n",
    "Co de this identification and compute the implied $B{-1}_0$ matrix and show that it is identical to the one found by the solver. Please, provide the co de you are using in the appendix"
   ]
  },
  {
   "cell_type": "code",
   "execution_count": 37,
   "metadata": {},
   "outputs": [
    {
     "name": "stdout",
     "output_type": "stream",
     "text": [
      "Fk matrix\n",
      " [[-36.9020 -65.5832 -125.0634]\n",
      " [-20.4518 223.9169 -2.0851]]\n",
      "\n",
      " Identification of transitory shocks is valid\n",
      "\n",
      " Fr matrix\n",
      " [[-23.2082 -110.4389 114.7198]]\n",
      "\n",
      "B_0^{-1}\n",
      " [[0.0125 -0.0105 -0.0139]\n",
      " [0.0012 0.0035 -0.0012]\n",
      " [0.0037 0.0013 0.0047]]\n",
      "\n",
      "\n",
      "(1) beta*Xi should be zero\n",
      " [[-0.0000 -0.0000 -0.0000]]\n",
      "\n",
      "(2) beta*Upsilon_0 should be zero\n",
      " [[0.0000 0.0000]]\n",
      "\n",
      "(3) C(1)*B0^{-1} should be Upsilon~zeros(K,r)\n",
      " [[-0.0281 -0.0000 -0.0000]\n",
      " [-0.0033 -0.0077 0.0000]\n",
      " [-0.0003 0.0009 -0.0000]]\n",
      "\n",
      "where Upsilon\n",
      " [[-0.0281 0.0000]\n",
      " [-0.0033 0.0077]\n",
      " [-0.0003 -0.0009]]\n",
      "\n",
      "(4) Covariance matrix of structural shocks w_t should be I_K\n",
      " [[1.0000 -0.0000 0.0000]\n",
      " [-0.0000 1.0000 0.0000]\n",
      " [-0.0000 0.0000 1.0000]]\n",
      "\n",
      "Should be diagonal\n",
      " [[1.0000]]\n",
      "\n",
      "This compares Upsilon solver and closed form solution\n",
      " [[-0.0281 0.0000]\n",
      " [-0.0033 0.0077]\n",
      " [-0.0003 -0.0009]] \n",
      " [[0.0259 0.0110 -0.0000]\n",
      " [-0.0000 0.0084 0.0000]\n",
      " [0.0007 -0.0007 0.0000]] \n",
      "\n"
     ]
    }
   ],
   "source": [
    "pipit = np.dot(np.dot(np.dot(np.dot(np.linalg.inv(np.dot(Upsilon0.T,Upsilon0)),Upsilon0.T),Xi),SIGMA),np.dot(np.dot(np.linalg.inv(np.dot(Upsilon0.T,Upsilon0)),Upsilon0.T),Xi).T)            \n",
    "pimat = np.linalg.cholesky(pipit)\n",
    "\n",
    "Upsilon = np.dot(Upsilon0,pimat)                       \n",
    "Fk = np.dot(np.dot(np.linalg.inv(np.dot(Upsilon.T,Upsilon)),Upsilon.T),Xi)\n",
    "print('Fk matrix\\n',Fk)\n",
    "\n",
    "Umat = None\n",
    "\n",
    "if Umat is None:\n",
    "   Umat = np.zeros((int(rank), K))  # Antager en nulmatrix af størrelse r x K\n",
    "   for i in range(1, int(rank) + 1):\n",
    "      Umat[i - 1, K - i] = 1  # Python-indeks starter fra 0\n",
    "\n",
    "if np.linalg.det(np.dot(Umat,Aest)) == 0:\n",
    "   print('\\n Identification of transitory shock is invalid')\n",
    "else:\n",
    "   print('\\n Identification of transitory shocks is valid')\n",
    "\n",
    "xi = np.dot(Aest,np.linalg.inv(np.dot(Umat,Aest)))  \n",
    "\n",
    "i=0\n",
    "while i < K:\n",
    "   j=0\n",
    "   while j< int(rank):\n",
    "      if abs(xi[i,j]) < 1E-8: #just to make sure that elements are = 0\n",
    "         xi[i,j] = 0\n",
    "      j=j+1\n",
    "   i=i+1\n",
    "\n",
    "qr=np.linalg.cholesky(np.dot(np.dot(xi.T,np.linalg.inv(SIGMA)),xi))                   \n",
    "Fr=np.dot(np.dot(np.linalg.inv(qr),xi.T),np.linalg.inv(SIGMA))\n",
    "print('\\n Fr matrix\\n',Fr)\n",
    "\n",
    "# Putting it all together to compute B0inv\n",
    "invB0 = np.linalg.inv(np.vstack((Fk,Fr)))\n",
    "invB0[:, invB0.diagonal() < 0] *= -1\n",
    "\n",
    "\n",
    "print(\"\\nB_0^{-1}\\n\",invB0)\n",
    "print(\"\")\n",
    "print('\\n(1) beta*Xi should be zero\\n',np.dot(Beta_theory,Xi))\n",
    "print('\\n(2) beta*Upsilon_0 should be zero\\n',np.dot(Beta_theory,Upsilon0))\n",
    "print('\\n(3) C(1)*B0^{-1} should be Upsilon~zeros(K,r)\\n',np.dot(-Xi,invB0))\n",
    "print('\\nwhere Upsilon\\n',Upsilon)\n",
    "print('\\n(4) Covariance matrix of structural shocks w_t should be I_K\\n',np.dot(np.dot(np.linalg.inv(invB0),SIGMA),np.linalg.inv(invB0).T))\n",
    "print('\\nShould be diagonal\\n',np.dot(np.dot(np.dot(np.dot(np.linalg.inv(qr),xi.T),np.linalg.inv(SIGMA)),xi),np.linalg.inv(qr.T))    )\n",
    "print('\\nThis compares Upsilon solver and closed form solution\\n',Upsilon[:,0:K-int(rank)+1],'\\n',Upsilon_solve[:,0:K-int(rank)+1],\"\\n\")\n",
    "\n",
    "Upsilon_Warne = np.dot(Xi,invB0)\n",
    "B0inv_Warne = invB0"
   ]
  },
  {
   "cell_type": "markdown",
   "metadata": {},
   "source": [
    "$$B^{-1}_0=\n",
    "\\begin{bmatrix}\n",
    "0.0028 & 0.0002 & 0.0026 \\\\\n",
    "-0.0034 & 0.0213 & -0.0002 \\\\\n",
    "-0.0034 & -0.0021 & 0.0044 \\\\\n",
    "\\end{bmatrix}\n",
    "$$\n",
    "$$\n",
    "\\Upsilon=\n",
    "\\begin{bmatrix}\n",
    "0.0085 & 0.0022 & -0.0000 \\\\\n",
    "0.0000 & 0.0336 & -0.0000 \\\\\n",
    "0.0002 & -0.0039 & 0.0000 \\\\\n",
    "\\end{bmatrix}$$"
   ]
  },
  {
   "cell_type": "code",
   "execution_count": 38,
   "metadata": {},
   "outputs": [
    {
     "name": "stdout",
     "output_type": "stream",
     "text": [
      "Upsilon  ≈  Upsilon (solve)   ~   False\n",
      "B_0^{-1} ≈  B_0^{-1} (solve)  ~   False\n",
      "\n",
      "Difference (Maximum)\n",
      "    B_0^{-1}:  0.0014674301034822358376364\n",
      "    Upsilon:   0.0032658061311114264073374\n"
     ]
    },
    {
     "data": {
      "text/latex": [
       "$\\displaystyle \n",
       "\\underset{(\\textit{Solver})}{B_{0}^{-1}} = \\begin{pmatrix}\n",
       "0.0156581519 & -0.0047800757 & -0.0138700446 \\\\\n",
       "-0.0002871588 & 0.0036987915 & -0.0012227624 \\\\\n",
       "0.0028912526 & 0.0025937401 & 0.0047338018 \\\\\n",
       "\\end{pmatrix}\n",
       "$"
      ],
      "text/plain": [
       "<IPython.core.display.Math object>"
      ]
     },
     "metadata": {},
     "output_type": "display_data"
    },
    {
     "data": {
      "text/latex": [
       "$\\displaystyle \n",
       "\\underset{(\\textit{Warne})}{B_{0}^{-1}} = \\begin{pmatrix}\n",
       "0.0125475662 & -0.0105159606 & -0.0138700446 \\\\\n",
       "0.0011802713 & 0.0035171691 & -0.0012227624 \\\\\n",
       "0.0036746414 & 0.0012585069 & 0.0047338018 \\\\\n",
       "\\end{pmatrix}\n",
       "$"
      ],
      "text/plain": [
       "<IPython.core.display.Math object>"
      ]
     },
     "metadata": {},
     "output_type": "display_data"
    },
    {
     "name": "stdout",
     "output_type": "stream",
     "text": [
      "\n"
     ]
    },
    {
     "data": {
      "text/latex": [
       "$\\displaystyle \n",
       "\\underset{(\\textit{Solver})}{\\Upsilon_{0}} = \\begin{pmatrix}\n",
       "0.0258545711 & 0.0109691437 & -0.0000000000 \\\\\n",
       "-0.0000000000 & 0.0083617251 & 0.0000000000 \\\\\n",
       "0.0006516955 & -0.0007030847 & 0.0000000000 \\\\\n",
       "\\end{pmatrix}\n",
       "$"
      ],
      "text/plain": [
       "<IPython.core.display.Math object>"
      ]
     },
     "metadata": {},
     "output_type": "display_data"
    },
    {
     "data": {
      "text/latex": [
       "$\\displaystyle \n",
       "\\underset{(\\textit{Warne})}{\\Upsilon_{0}} = \\begin{pmatrix}\n",
       "0.0280852445 & 0.0000000000 & 0.0000000000 \\\\\n",
       "0.0032658061 & 0.0076975942 & -0.0000000000 \\\\\n",
       "0.0003253335 & -0.0009017723 & 0.0000000000 \\\\\n",
       "\\end{pmatrix}\n",
       "$"
      ],
      "text/plain": [
       "<IPython.core.display.Math object>"
      ]
     },
     "metadata": {},
     "output_type": "display_data"
    }
   ],
   "source": [
    "print(\"Upsilon  ≈  Upsilon (solve)   ~  \",np.allclose(Upsilon_Warne, Upsilon_solve))\n",
    "print(\"B_0^{-1} ≈  B_0^{-1} (solve)  ~  \",np.allclose(B0inv_Warne, B0inv_solve))\n",
    "\n",
    "print(\"\\nDifference (Maximum)\")\n",
    "print(f\"    B_0^{{-1}}:  {np.max(B0inv_Warne - B0inv_solve):.25f}\")\n",
    "print(f\"    Upsilon:   {np.max(Upsilon_Warne - Upsilon_solve):.25f}\")\n",
    "\n",
    "def matrix(matrix, name):\n",
    "    string = f\"$$\\n{name} = \\\\begin{{pmatrix}}\\n\"\n",
    "    rows, cols = matrix.shape\n",
    "    for i in range(rows):\n",
    "        row = \" & \".join([f\"{matrix[i, j]:.10f}\" for j in range(cols)])\n",
    "        string += row + \" \\\\\\\\\\n\"\n",
    "    string += \"\\\\end{pmatrix}\\n$$\"\n",
    "    return string\n",
    "\n",
    "display(Math(matrix(B0inv_solve, \"\\\\underset{(\\\\textit{Solver})}{B_{0}^{-1}}\")))\n",
    "display(Math(matrix(B0inv_Warne, \"\\\\underset{(\\\\textit{Warne})}{B_{0}^{-1}}\")))\n",
    "print(\"\")\n",
    "display(Math(matrix(Upsilon_solve, \"\\\\underset{(\\\\textit{Solver})}{\\\\Upsilon_{0}}\")))\n",
    "display(Math(matrix(Upsilon_Warne, \"\\\\underset{(\\\\textit{Warne})}{\\\\Upsilon_{0}}\")))"
   ]
  }
 ],
 "metadata": {
  "kernelspec": {
   "display_name": "base",
   "language": "python",
   "name": "python3"
  },
  "language_info": {
   "codemirror_mode": {
    "name": "ipython",
    "version": 3
   },
   "file_extension": ".py",
   "mimetype": "text/x-python",
   "name": "python",
   "nbconvert_exporter": "python",
   "pygments_lexer": "ipython3",
   "version": "3.11.7"
  }
 },
 "nbformat": 4,
 "nbformat_minor": 2
}
